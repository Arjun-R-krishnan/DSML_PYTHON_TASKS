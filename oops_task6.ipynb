{
  "cells": [
    {
      "cell_type": "markdown",
      "metadata": {
        "id": "view-in-github",
        "colab_type": "text"
      },
      "source": [
        "<a href=\"https://colab.research.google.com/github/Arjun-R-krishnan/DSML_PYTHON_TASKS/blob/main/oops_task6.ipynb\" target=\"_parent\"><img src=\"https://colab.research.google.com/assets/colab-badge.svg\" alt=\"Open In Colab\"/></a>"
      ]
    },
    {
      "cell_type": "markdown",
      "id": "4524b0b2-eef2-49fb-89ba-2397f85bbc51",
      "metadata": {
        "id": "4524b0b2-eef2-49fb-89ba-2397f85bbc51"
      },
      "source": [
        "\n",
        "Write a Python program to create a class representing a Circle. Include methods to calculate its area and perimeter"
      ]
    },
    {
      "cell_type": "code",
      "execution_count": null,
      "id": "aad9273e-524a-4706-b71a-a1bd535327c7",
      "metadata": {
        "colab": {
          "base_uri": "https://localhost:8080/"
        },
        "id": "aad9273e-524a-4706-b71a-a1bd535327c7",
        "outputId": "8c2cc2d6-4abf-4043-e31c-59c292a7c31b"
      },
      "outputs": [
        {
          "name": "stdout",
          "output_type": "stream",
          "text": [
            "enter the radius: 6\n",
            "the area of the circle is 113.04\n",
            "the perimeter of the circle is 37.68\n"
          ]
        }
      ],
      "source": [
        "class Circle:\n",
        "\n",
        "\n",
        "    def __init__(self,radius):\n",
        "        self.radius=radius\n",
        "\n",
        "\n",
        "    def area(self):\n",
        "        return radius**2 *3.14\n",
        "\n",
        "    def perimeter(self):\n",
        "        return 2*3.14*radius\n",
        "\n",
        "\n",
        "\n",
        "radius=float(input(\"enter the radius: \"))\n",
        "circle1=Circle(radius)\n",
        "print(f\"the area of the circle is {circle1.area()}\")\n",
        "print(f\"the perimeter of the circle is {circle1.perimeter()}\")"
      ]
    },
    {
      "cell_type": "markdown",
      "id": "c20b2c34-c953-48ee-adda-4b19c85e3663",
      "metadata": {
        "id": "c20b2c34-c953-48ee-adda-4b19c85e3663"
      },
      "source": [
        "Write a Python program to create a calculator class. Include methods for basic arithmetic operations"
      ]
    },
    {
      "cell_type": "code",
      "execution_count": null,
      "id": "8028eca9-cf93-4afc-b6eb-c46ccc5ff2ae",
      "metadata": {
        "colab": {
          "background_save": true,
          "base_uri": "https://localhost:8080/"
        },
        "id": "8028eca9-cf93-4afc-b6eb-c46ccc5ff2ae",
        "outputId": "4c24e821-6025-4189-ac69-fd50f1efadfa"
      },
      "outputs": [
        {
          "name": "stdout",
          "output_type": "stream",
          "text": [
            "0:EXIT \n",
            "1:ADDITION \n",
            "2:SUBSTRACTION \n",
            "3:MULTIPLICATION \n",
            "4:DIVISION\n",
            "result:0.5\n",
            "0:EXIT \n",
            "1:ADDITION \n",
            "2:SUBSTRACTION \n",
            "3:MULTIPLICATION \n",
            "4:DIVISION\n"
          ]
        }
      ],
      "source": [
        "class Calculator:\n",
        "\n",
        "    def __init__(self,num1,num2):\n",
        "        self.num1=num1\n",
        "        self.num2=num2\n",
        "\n",
        "    def add(self):\n",
        "        return num1+num2\n",
        "    def sub(self):\n",
        "        return num1 - num2\n",
        "    def mul(self):\n",
        "        return num1*num2\n",
        "    def div(self):\n",
        "        try:\n",
        "            return num1/num2\n",
        "        except ZeroDivisionError:\n",
        "            return (\"not divisible by zero\")\n",
        "\n",
        "num1=int(input(\"enter first number: \"))\n",
        "num2=int(input(\"enter second number: \"))\n",
        "calc=Calculator(num1,num2)\n",
        "choice=1\n",
        "while choice!=0:\n",
        "    print(\"0:EXIT \\n1:ADDITION \\n2:SUBSTRACTION \\n3:MULTIPLICATION \\n4:DIVISION\")\n",
        "    choice=int(input(\"enter a an action: \"))\n",
        "    if choice==1:\n",
        "        print(f\"result:{calc.add()}\")\n",
        "    elif choice==2:\n",
        "        print(f\"result:{calc.sub()}\")\n",
        "    elif choice==3:\n",
        "        print(f\"result:{calc.mul()}\")\n",
        "    elif choice==4:\n",
        "        print(f\"result:{calc.div()}\")\n",
        "    elif choice==0:\n",
        "        print(\"Exiting...\")\n",
        "    else:\n",
        "        print(\"invalid choice!\")\n",
        "print()\n",
        "\n",
        "\n"
      ]
    },
    {
      "cell_type": "markdown",
      "id": "0948fc1e-a4bf-4477-927e-5876a2280e9c",
      "metadata": {
        "id": "0948fc1e-a4bf-4477-927e-5876a2280e9c"
      },
      "source": [
        " Write a Python program to create a class that represents a shape. Include methods to calculate its area and perimeter. Implement subclasses for different shapes like circle, triangle, and square"
      ]
    },
    {
      "cell_type": "code",
      "execution_count": 1,
      "id": "7dad6cdc-c8f5-44b9-8531-56dc8520f3a0",
      "metadata": {
        "colab": {
          "base_uri": "https://localhost:8080/"
        },
        "id": "7dad6cdc-c8f5-44b9-8531-56dc8520f3a0",
        "outputId": "0dcc61f8-012d-4990-daa1-01e76fff00cf"
      },
      "outputs": [
        {
          "output_type": "stream",
          "name": "stdout",
          "text": [
            "area of the circle is 200.96\n",
            "perimeter of the circle is 50.24\n",
            "area of the sqaure is 25\n",
            "perimeter of the circle is 20\n",
            "area of the triangle is 3.799671038392666\n",
            "perimeter of the triangle is 11\n"
          ]
        }
      ],
      "source": [
        "class Shape:\n",
        "\n",
        "    def area(self):\n",
        "        pass\n",
        "    def perimeter(self):\n",
        "        pass\n",
        "\n",
        "class Circle(Shape):\n",
        "    def __init__(self,radius):\n",
        "        self.radius=radius\n",
        "\n",
        "    def area(self):\n",
        "        return 3.14*(self.radius**2)\n",
        "    def perimeter(self):\n",
        "        return 2*3.14*self.radius\n",
        "\n",
        "class Square(Shape):\n",
        "    def __init__(self,side):\n",
        "        self.side=side\n",
        "\n",
        "    def area(self):\n",
        "        return self.side**2\n",
        "\n",
        "    def perimeter(self):\n",
        "        return self.side*4\n",
        "\n",
        "class Triangle(Shape):\n",
        "\n",
        "    def __init__(self,side1,side2,side3):\n",
        "        self.side1=side1\n",
        "        self.side2=side2\n",
        "        self.side3=side3\n",
        "\n",
        "    def area(self):\n",
        "        s=(self.side1+self.side2+self.side3)/2\n",
        "        return ((s-self.side1)*(s-self.side2)*(s-self.side3)*s)**0.5\n",
        "    def perimeter(self):\n",
        "        return self.side1+self.side2+self.side3\n",
        "\n",
        "cir1=Circle(8)\n",
        "print(f\"area of the circle is {cir1.area()}\")\n",
        "print(f\"perimeter of the circle is {cir1.perimeter()}\")\n",
        "\n",
        "sqr1=Square(5)\n",
        "print(f\"area of the sqaure is {sqr1.area()}\")\n",
        "print(f\"perimeter of the circle is {sqr1.perimeter()}\")\n",
        "\n",
        "trgle1=Triangle(2,4,5)\n",
        "print(f\"area of the triangle is {trgle1.area()}\")\n",
        "print(f\"perimeter of the triangle is {trgle1.perimeter()}\")\n",
        "\n",
        "\n"
      ]
    },
    {
      "cell_type": "code",
      "execution_count": null,
      "id": "12cdcd3b-6458-4292-ba1a-0b71f17fdfc9",
      "metadata": {
        "id": "12cdcd3b-6458-4292-ba1a-0b71f17fdfc9"
      },
      "outputs": [],
      "source": []
    }
  ],
  "metadata": {
    "colab": {
      "provenance": [],
      "include_colab_link": true
    },
    "kernelspec": {
      "display_name": "Python 3 (ipykernel)",
      "language": "python",
      "name": "python3"
    },
    "language_info": {
      "codemirror_mode": {
        "name": "ipython",
        "version": 3
      },
      "file_extension": ".py",
      "mimetype": "text/x-python",
      "name": "python",
      "nbconvert_exporter": "python",
      "pygments_lexer": "ipython3",
      "version": "3.11.7"
    }
  },
  "nbformat": 4,
  "nbformat_minor": 5
}