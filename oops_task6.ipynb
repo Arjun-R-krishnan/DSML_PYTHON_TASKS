{
  "cells": [
    {
      "cell_type": "markdown",
      "metadata": {
        "id": "view-in-github",
        "colab_type": "text"
      },
      "source": [
        "<a href=\"https://colab.research.google.com/github/Arjun-R-krishnan/DSML_PYTHON_TASKS/blob/main/oops_task6.ipynb\" target=\"_parent\"><img src=\"https://colab.research.google.com/assets/colab-badge.svg\" alt=\"Open In Colab\"/></a>"
      ]
    },
    {
      "cell_type": "markdown",
      "id": "4524b0b2-eef2-49fb-89ba-2397f85bbc51",
      "metadata": {
        "id": "4524b0b2-eef2-49fb-89ba-2397f85bbc51"
      },
      "source": [
        "\n",
        "Write a Python program to create a class representing a Circle. Include methods to calculate its area and perimeter"
      ]
    },
    {
      "cell_type": "code",
      "execution_count": 13,
      "id": "aad9273e-524a-4706-b71a-a1bd535327c7",
      "metadata": {
        "colab": {
          "base_uri": "https://localhost:8080/"
        },
        "id": "aad9273e-524a-4706-b71a-a1bd535327c7",
        "outputId": "8c2cc2d6-4abf-4043-e31c-59c292a7c31b"
      },
      "outputs": [
        {
          "output_type": "stream",
          "name": "stdout",
          "text": [
            "enter the radius: 6\n",
            "the area of the circle is 113.04\n",
            "the perimeter of the circle is 37.68\n"
          ]
        }
      ],
      "source": [
        "class Circle:\n",
        "\n",
        "\n",
        "    def __init__(self,radius):\n",
        "        self.radius=radius\n",
        "\n",
        "\n",
        "    def area(self):\n",
        "        return radius**2 *3.14\n",
        "\n",
        "    def perimeter(self):\n",
        "        return 2*3.14*radius\n",
        "\n",
        "\n",
        "\n",
        "radius=float(input(\"enter the radius: \"))\n",
        "circle1=Circle(radius)\n",
        "print(f\"the area of the circle is {circle1.area()}\")\n",
        "print(f\"the perimeter of the circle is {circle1.perimeter()}\")"
      ]
    },
    {
      "cell_type": "markdown",
      "id": "c20b2c34-c953-48ee-adda-4b19c85e3663",
      "metadata": {
        "id": "c20b2c34-c953-48ee-adda-4b19c85e3663"
      },
      "source": [
        "Write a Python program to create a calculator class. Include methods for basic arithmetic operations"
      ]
    },
    {
      "cell_type": "code",
      "execution_count": null,
      "id": "8028eca9-cf93-4afc-b6eb-c46ccc5ff2ae",
      "metadata": {
        "colab": {
          "background_save": true,
          "base_uri": "https://localhost:8080/"
        },
        "id": "8028eca9-cf93-4afc-b6eb-c46ccc5ff2ae",
        "outputId": "c5cb48e2-f787-443f-aa8c-0547551a76a4"
      },
      "outputs": [
        {
          "name": "stdout",
          "output_type": "stream",
          "text": [
            "0:EXIT \n",
            "1:ADDITION \n",
            "2:SUBSTRACTION \n",
            "3:MULTIPLICATION \n",
            "4:DIVISION\n",
            "result:3\n",
            "0:EXIT \n",
            "1:ADDITION \n",
            "2:SUBSTRACTION \n",
            "3:MULTIPLICATION \n",
            "4:DIVISION\n",
            "result:2.0\n",
            "0:EXIT \n",
            "1:ADDITION \n",
            "2:SUBSTRACTION \n",
            "3:MULTIPLICATION \n",
            "4:DIVISION\n",
            "result:9\n",
            "0:EXIT \n",
            "1:ADDITION \n",
            "2:SUBSTRACTION \n",
            "3:MULTIPLICATION \n",
            "4:DIVISION\n",
            "result:18\n",
            "0:EXIT \n",
            "1:ADDITION \n",
            "2:SUBSTRACTION \n",
            "3:MULTIPLICATION \n",
            "4:DIVISION\n",
            "Exiting...\n",
            "\n"
          ]
        }
      ],
      "source": [
        "class Calculator:\n",
        "\n",
        "    def __init__(self,num1,num2):\n",
        "        self.num1=num1\n",
        "        self.num2=num2\n",
        "\n",
        "    def add(self):\n",
        "        return num1+num2\n",
        "    def sub(self):\n",
        "        return num1 - num2\n",
        "    def mul(self):\n",
        "        return num1*num2\n",
        "    def div(self):\n",
        "        try:\n",
        "            return num1/num2\n",
        "        except ZeroDivisionError:\n",
        "            return (\"not divisible by zero\")\n",
        "\n",
        "num1=int(input(\"enter first number: \"))\n",
        "num2=int(input(\"enter second number: \"))\n",
        "calc=Calculator(num1,num2)\n",
        "choice=1\n",
        "while choice!=0:\n",
        "    print(\"0:EXIT \\n1:ADDITION \\n2:SUBSTRACTION \\n3:MULTIPLICATION \\n4:DIVISION\")\n",
        "    choice=int(input(\"enter a an action: \"))\n",
        "    if choice==1:\n",
        "        print(f\"result:{calc.add()}\")\n",
        "    elif choice==2:\n",
        "        print(f\"result:{calc.sub()}\")\n",
        "    elif choice==3:\n",
        "        print(f\"result:{calc.mul()}\")\n",
        "    elif choice==4:\n",
        "        print(f\"result:{calc.div()}\")\n",
        "    elif choice==0:\n",
        "        print(\"Exiting...\")\n",
        "    else:\n",
        "        print(\"invalid choice!\")\n",
        "print()\n",
        "\n",
        "\n"
      ]
    },
    {
      "cell_type": "markdown",
      "id": "0948fc1e-a4bf-4477-927e-5876a2280e9c",
      "metadata": {
        "id": "0948fc1e-a4bf-4477-927e-5876a2280e9c"
      },
      "source": [
        " Write a Python program to create a class that represents a shape. Include methods to calculate its area and perimeter. Implement subclasses for different shapes like circle, triangle, and square"
      ]
    },
    {
      "cell_type": "code",
      "execution_count": 12,
      "id": "7dad6cdc-c8f5-44b9-8531-56dc8520f3a0",
      "metadata": {
        "id": "7dad6cdc-c8f5-44b9-8531-56dc8520f3a0",
        "colab": {
          "base_uri": "https://localhost:8080/"
        },
        "outputId": "4f409896-7a12-4f51-96b7-84eb4604d66a"
      },
      "outputs": [
        {
          "output_type": "stream",
          "name": "stdout",
          "text": [
            "select a shape (circle,square,triangle):circle\n",
            "enter radius: 6\n",
            "area of circle is 113.04\n",
            "perimeter of circle is 37.68\n",
            "\n"
          ]
        }
      ],
      "source": [
        "class Shape:\n",
        "\n",
        "    def area(self):\n",
        "        pass\n",
        "    def perimeter(self):\n",
        "        pass\n",
        "\n",
        "class Circle(Shape):\n",
        "    def __init__(self,radius):\n",
        "        self.radius=radius\n",
        "\n",
        "    def area(self):\n",
        "        return 3.14*(self.radius**2)\n",
        "    def perimeter(self):\n",
        "        return 2*3.14*self.radius\n",
        "\n",
        "class Square(Shape):\n",
        "    def __init__(self,side):\n",
        "        self.side=side\n",
        "\n",
        "    def area(self):\n",
        "        return self.side**2\n",
        "\n",
        "    def perimeter(self):\n",
        "        return self.side*4\n",
        "\n",
        "class Triangle(Shape):\n",
        "\n",
        "    def __init__(self,side1,side2,side3):\n",
        "        self.side1=side1\n",
        "        self.side2=side2\n",
        "        self.side3=side3\n",
        "\n",
        "    def area(self):\n",
        "        s=(self.side1+self.side2+self.side3)/2\n",
        "        return ((s-self.side1)*(s-self.side2)*(s-self.side3)*s)**0.5\n",
        "    def perimeter(self):\n",
        "        return self.side1+self.side2+self.side3\n",
        "\n",
        "shape_name=input(\"select a shape (circle,square,triangle):\").lower()\n",
        "\n",
        "\n",
        "\n",
        "if shape_name==\"circle\":\n",
        "    radius=int(input(\"enter radius: \"))\n",
        "    cir=Circle(radius)\n",
        "    print(f\"area of circle is {cir.area()}\\nperimeter of circle is {cir.perimeter()}\")\n",
        "\n",
        "elif shape_name==\"square\":\n",
        "    side=int(input(\"enter side: \"))\n",
        "    sqr=Square(side)\n",
        "    print(f\"area of square is {sqr.area()}\\nperimeter  of square is {sqr.perimeter()}\")\n",
        "\n",
        "elif shape_name==\"triangle\":\n",
        "    side1=int(input(\"enter side1: \"))\n",
        "    side2=int(input(\"enter side2: \"))\n",
        "    side3=int(input(\"enter side3: \"))\n",
        "    tri=Triangle(side1,side2,side3)\n",
        "    print(f\"area of triangle is {tri.area()}\\nperimeter of triangle is {tri.perimeter()}\")\n",
        "\n",
        "else:\n",
        "    print(\"Invalid choice!\")\n",
        "\n",
        "print()\n",
        "\n",
        "\n"
      ]
    },
    {
      "cell_type": "code",
      "execution_count": null,
      "id": "12cdcd3b-6458-4292-ba1a-0b71f17fdfc9",
      "metadata": {
        "id": "12cdcd3b-6458-4292-ba1a-0b71f17fdfc9"
      },
      "outputs": [],
      "source": []
    }
  ],
  "metadata": {
    "colab": {
      "provenance": [],
      "include_colab_link": true
    },
    "kernelspec": {
      "display_name": "Python 3 (ipykernel)",
      "language": "python",
      "name": "python3"
    },
    "language_info": {
      "codemirror_mode": {
        "name": "ipython",
        "version": 3
      },
      "file_extension": ".py",
      "mimetype": "text/x-python",
      "name": "python",
      "nbconvert_exporter": "python",
      "pygments_lexer": "ipython3",
      "version": "3.11.7"
    }
  },
  "nbformat": 4,
  "nbformat_minor": 5
}