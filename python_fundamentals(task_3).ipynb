{
  "cells": [
    {
      "cell_type": "markdown",
      "metadata": {
        "id": "view-in-github",
        "colab_type": "text"
      },
      "source": [
        "<a href=\"https://colab.research.google.com/github/Arjun-R-krishnan/DSML_PYTHON_TASKS/blob/main/python_fundamentals(task_3).ipynb\" target=\"_parent\"><img src=\"https://colab.research.google.com/assets/colab-badge.svg\" alt=\"Open In Colab\"/></a>"
      ]
    },
    {
      "cell_type": "markdown",
      "id": "75692c64-43cc-43fd-992f-b075c7d88b35",
      "metadata": {
        "id": "75692c64-43cc-43fd-992f-b075c7d88b35"
      },
      "source": [
        "#Exercise 1  \n",
        "Write Python code that prints your name, student number and email address"
      ]
    },
    {
      "cell_type": "code",
      "execution_count": 1,
      "id": "7ec0073e-bb55-4363-8d8f-7350c327f81d",
      "metadata": {
        "colab": {
          "base_uri": "https://localhost:8080/"
        },
        "id": "7ec0073e-bb55-4363-8d8f-7350c327f81d",
        "outputId": "b37603a5-b56b-417a-9d6c-3b9a27cd3e46"
      },
      "outputs": [
        {
          "output_type": "stream",
          "name": "stdout",
          "text": [
            "NAME:ARJUN R\n",
            "STUDENT NUMBER:11\n",
            "EMAI:Larjunrarjun7@gmail.com\n"
          ]
        }
      ],
      "source": [
        "print(\"NAME:ARJUN R\")\n",
        "print(\"STUDENT NUMBER:11\")\n",
        "print(\"EMAI:Larjunrarjun7@gmail.com\")"
      ]
    },
    {
      "cell_type": "markdown",
      "id": "60b9c5a4-e4db-4780-9a6c-5850509f9306",
      "metadata": {
        "id": "60b9c5a4-e4db-4780-9a6c-5850509f9306"
      },
      "source": [
        "#Exercise 2  \n",
        "Write Python code that prints your name, student number and email address using escape sequences"
      ]
    },
    {
      "cell_type": "code",
      "execution_count": 2,
      "id": "585bdc5a-ea2e-4d7c-8aea-5de012f2ac4d",
      "metadata": {
        "colab": {
          "base_uri": "https://localhost:8080/"
        },
        "id": "585bdc5a-ea2e-4d7c-8aea-5de012f2ac4d",
        "outputId": "5df18646-0cab-45e9-d8b5-5e7e7fcfdc70"
      },
      "outputs": [
        {
          "output_type": "stream",
          "name": "stdout",
          "text": [
            "NAME:ARJUN R\n",
            "STUDENT NUMBER:11\n",
            "EMAI:Larjunrarjun7@gmail.com\n"
          ]
        }
      ],
      "source": [
        "print(\"NAME:ARJUN R\\nSTUDENT NUMBER:11\\nEMAI:Larjunrarjun7@gmail.com\")"
      ]
    },
    {
      "cell_type": "markdown",
      "id": "cd3f4ab7-0120-4b68-991c-d2069402292e",
      "metadata": {
        "id": "cd3f4ab7-0120-4b68-991c-d2069402292e"
      },
      "source": [
        "#Exercise 3\n",
        "Write Python code that add, subtract, multiply and divide the two numbers. You can use the two numbers 14 and 7"
      ]
    },
    {
      "cell_type": "code",
      "execution_count": 3,
      "id": "698bcde3-6743-4fba-8d7f-28a85eaf64e9",
      "metadata": {
        "colab": {
          "base_uri": "https://localhost:8080/"
        },
        "id": "698bcde3-6743-4fba-8d7f-28a85eaf64e9",
        "outputId": "afada702-3d93-493e-dfe1-887afc4b00d5"
      },
      "outputs": [
        {
          "output_type": "stream",
          "name": "stdout",
          "text": [
            "14 + 7 = 21\n",
            "14 - 7 = 7\n",
            "14 * 7 = 98\n",
            "14 / 7 = 2.0\n"
          ]
        }
      ],
      "source": [
        "num1=14\n",
        "num2=7\n",
        "print(num1,\"+\",num2,\"=\",num1+num2)\n",
        "print(num1,\"-\",num2,\"=\",num1-num2)\n",
        "print(num1,\"*\",num2,\"=\",num1*num2)\n",
        "print(num1,\"/\",num2,\"=\",num1/num2)"
      ]
    },
    {
      "cell_type": "markdown",
      "id": "de154657-3c15-4197-bbda-83610ba4260b",
      "metadata": {
        "id": "de154657-3c15-4197-bbda-83610ba4260b"
      },
      "source": [
        "#Exercise 4\n",
        "Write Python code that displays the numbers from 1 to 5 as steps"
      ]
    },
    {
      "cell_type": "code",
      "execution_count": 4,
      "id": "d53912e8-939a-4634-b0bf-757ecd18d5e4",
      "metadata": {
        "colab": {
          "base_uri": "https://localhost:8080/"
        },
        "id": "d53912e8-939a-4634-b0bf-757ecd18d5e4",
        "outputId": "f577da67-4922-4401-d550-de8d29912d57"
      },
      "outputs": [
        {
          "output_type": "stream",
          "name": "stdout",
          "text": [
            "1\n",
            "2\n",
            "3\n",
            "4\n",
            "5\n"
          ]
        }
      ],
      "source": [
        "for i in range(1,6):\n",
        "    print(i)"
      ]
    },
    {
      "cell_type": "markdown",
      "id": "2d1af1d1-f0c3-47cc-b76d-f983a399dc30",
      "metadata": {
        "id": "2d1af1d1-f0c3-47cc-b76d-f983a399dc30"
      },
      "source": [
        "#Exercise 5\n",
        "Write Python code that outputs the following sentence (including the quotation marks and line break) to the screen"
      ]
    },
    {
      "cell_type": "code",
      "execution_count": 5,
      "id": "de0a7254-1b75-46a1-ad71-9b57f9c2cabb",
      "metadata": {
        "colab": {
          "base_uri": "https://localhost:8080/"
        },
        "id": "de0a7254-1b75-46a1-ad71-9b57f9c2cabb",
        "outputId": "9a7b4de1-dacf-454e-f79f-defd293ead65"
      },
      "outputs": [
        {
          "output_type": "stream",
          "name": "stdout",
          "text": [
            "\"SDK\" stands for \"Software Development Kit\", whereas \n",
            "\"IDE\" stands for \"Integrated Development Environment\"\n"
          ]
        }
      ],
      "source": [
        "print('''\"SDK\" stands for \"Software Development Kit\", whereas \\n\"IDE\" stands for \"Integrated Development Environment\"''')"
      ]
    },
    {
      "cell_type": "markdown",
      "id": "5f841343-3f25-4a49-94bc-d7919a95db42",
      "metadata": {
        "id": "5f841343-3f25-4a49-94bc-d7919a95db42"
      },
      "source": [
        "#Exercise 6\n",
        "Practice and check the output"
      ]
    },
    {
      "cell_type": "code",
      "execution_count": 6,
      "id": "b92259be-721b-4c66-8662-a3f0169d2819",
      "metadata": {
        "colab": {
          "base_uri": "https://localhost:8080/"
        },
        "id": "b92259be-721b-4c66-8662-a3f0169d2819",
        "outputId": "a161f66c-9849-4460-d56e-8f61d8644282"
      },
      "outputs": [
        {
          "output_type": "stream",
          "name": "stdout",
          "text": [
            "python is an \"awesome\" language.\n",
            "python\n",
            "\t2023\n",
            "I'm from Entri.\b\n",
            "5\n",
            "e\n",
            "Entri\n",
            "2023\n",
            "Entri\b2023\n",
            "Entri*2023\b\b\b\b"
          ]
        }
      ],
      "source": [
        "print(\"python is an \\\"awesome\\\" language.\")\n",
        "print(\"python\\n\\t2023\")\n",
        "print('I\\'m from Entri.\\b')\n",
        "print(\"\\65\")\n",
        "print(\"\\x65\")\n",
        "print(\"Entri\", \"2023\", sep=\"\\n\")\n",
        "print(\"Entri\", \"2023\", sep=\"\\b\")\n",
        "print(\"Entri\", \"2023\", sep=\"*\", end=\"\\b\\b\\b\\b\")"
      ]
    },
    {
      "cell_type": "markdown",
      "id": "07e99067-c035-46b5-82f3-5984c7da0d33",
      "metadata": {
        "id": "07e99067-c035-46b5-82f3-5984c7da0d33"
      },
      "source": [
        "#Exercise 7\n",
        "Define the variables below. Print the types of each variable. What is the sum of your variables? (Hint: use a type conversion function.) What datatype is the sum?"
      ]
    },
    {
      "cell_type": "code",
      "execution_count": 8,
      "id": "e865dc23-1847-49cc-a17c-55280140e166",
      "metadata": {
        "colab": {
          "base_uri": "https://localhost:8080/"
        },
        "id": "e865dc23-1847-49cc-a17c-55280140e166",
        "outputId": "f2fbae51-8f2c-40ac-e719-4d1e7b3a4ddd"
      },
      "outputs": [
        {
          "output_type": "stream",
          "name": "stdout",
          "text": [
            "<class 'int'>\n",
            "<class 'str'>\n",
            "<class 'float'>\n",
            "<class 'float'>\n"
          ]
        }
      ],
      "source": [
        "num=23\n",
        "textnum=\"57\"\n",
        "decimal=98.3\n",
        "print(type(num))\n",
        "print(type(textnum))\n",
        "print(type(decimal))\n",
        "sum=(num+int(textnum)+decimal)\n",
        "print(type(sum))"
      ]
    },
    {
      "cell_type": "markdown",
      "id": "3cf1aa7b-a158-4b2e-bb2b-a0bd1132e8a6",
      "metadata": {
        "id": "3cf1aa7b-a158-4b2e-bb2b-a0bd1132e8a6"
      },
      "source": [
        "#Exercise 8\n",
        "calculate the number of minutes in a year using variables for each unit of time. print a statement that describes what your code does also. Create three variables to store no of days in a year, minute in a hour, hours in a day, then calculate the total minutes in a year and print the values"
      ]
    },
    {
      "cell_type": "code",
      "execution_count": 9,
      "id": "5877737b-c651-4662-9ba4-422aee353208",
      "metadata": {
        "colab": {
          "base_uri": "https://localhost:8080/"
        },
        "id": "5877737b-c651-4662-9ba4-422aee353208",
        "outputId": "f6f93007-0b7c-445b-d69b-7f5fa5edac78"
      },
      "outputs": [
        {
          "output_type": "stream",
          "name": "stdout",
          "text": [
            "525600\n",
            "THIS CODE SETS 3 VARIABLES FOR ,MINUTES IN AN HOUR,HOURS IN A DAY AND DAYS IN AN YEAR AND MULTIPLICATES IT TO FIND THE TOTAL NO OF MINUTES IN A YEAR\n"
          ]
        }
      ],
      "source": [
        "minutes_in_an_hour=60\n",
        "hours_in_a_day=24\n",
        "days_in_a_year=365\n",
        "minutes_in_an_year=minutes_in_an_hour*hours_in_a_day*days_in_a_year\n",
        "print(minutes_in_an_year)\n",
        "print(\"THIS CODE SETS 3 VARIABLES FOR ,MINUTES IN AN HOUR,HOURS IN A DAY AND DAYS IN AN YEAR AND MULTIPLICATES IT TO FIND THE TOTAL NO OF MINUTES IN A YEAR\")"
      ]
    },
    {
      "cell_type": "markdown",
      "id": "ab2c3725-948f-4012-8291-b6a13e0515f5",
      "metadata": {
        "id": "ab2c3725-948f-4012-8291-b6a13e0515f5"
      },
      "source": [
        "#Exercise 9\n",
        "Write Python code that asks the user to enter his/her name and then output/prints his/her name with a greeting"
      ]
    },
    {
      "cell_type": "code",
      "execution_count": 10,
      "id": "9e7bbca6-381b-4788-8cf9-e86f86629799",
      "metadata": {
        "colab": {
          "base_uri": "https://localhost:8080/"
        },
        "id": "9e7bbca6-381b-4788-8cf9-e86f86629799",
        "outputId": "fa26c0b5-b122-4e68-c995-5674edb6fb8e"
      },
      "outputs": [
        {
          "output_type": "stream",
          "name": "stdout",
          "text": [
            "enter your name: ARJUN\n",
            "HI ARJUN WELCOME TO PYTHON PROGRAMMING\n"
          ]
        }
      ],
      "source": [
        "name=input(\"enter your name: \")\n",
        "print(f\"HI {name} WELCOME TO PYTHON PROGRAMMING\")"
      ]
    },
    {
      "cell_type": "markdown",
      "id": "3ba1f6a2-1ebd-4141-b00e-9d71452923cf",
      "metadata": {
        "id": "3ba1f6a2-1ebd-4141-b00e-9d71452923cf"
      },
      "source": [
        "#Exercise 10\n",
        "Name your file: PoundsToDollars.py\n",
        "Write a program that asks the user to enter an amount in pounds (£) and the program calculates and converts an amount in dollar ($)"
      ]
    },
    {
      "cell_type": "code",
      "execution_count": 11,
      "id": "3f154731-7fa1-494b-8176-092dedeef7a0",
      "metadata": {
        "colab": {
          "base_uri": "https://localhost:8080/"
        },
        "id": "3f154731-7fa1-494b-8176-092dedeef7a0",
        "outputId": "07fd0880-753e-46bd-ac4e-245bdbf79572"
      },
      "outputs": [
        {
          "output_type": "stream",
          "name": "stdout",
          "text": [
            "enter the amount in pound7\n",
            "7 £ is equal to 9.520000000000001 $\n"
          ]
        }
      ],
      "source": [
        "pound=int(input(\"enter the amount in pound\"))\n",
        "dollar=pound*1.36\n",
        "print(f\"{pound} £ is equal to {dollar} $\")\n"
      ]
    },
    {
      "cell_type": "code",
      "execution_count": null,
      "id": "9a559add-b366-4c19-a2e7-1a8828914fb9",
      "metadata": {
        "id": "9a559add-b366-4c19-a2e7-1a8828914fb9"
      },
      "outputs": [],
      "source": []
    }
  ],
  "metadata": {
    "kernelspec": {
      "display_name": "Python 3 (ipykernel)",
      "language": "python",
      "name": "python3"
    },
    "language_info": {
      "codemirror_mode": {
        "name": "ipython",
        "version": 3
      },
      "file_extension": ".py",
      "mimetype": "text/x-python",
      "name": "python",
      "nbconvert_exporter": "python",
      "pygments_lexer": "ipython3",
      "version": "3.11.7"
    },
    "colab": {
      "provenance": [],
      "include_colab_link": true
    }
  },
  "nbformat": 4,
  "nbformat_minor": 5
}