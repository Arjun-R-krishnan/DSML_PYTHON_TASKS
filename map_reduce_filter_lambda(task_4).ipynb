{
  "cells": [
    {
      "cell_type": "markdown",
      "metadata": {
        "id": "view-in-github",
        "colab_type": "text"
      },
      "source": [
        "<a href=\"https://colab.research.google.com/github/Arjun-R-krishnan/DSML_PYTHON_TASKS/blob/main/map_reduce_filter_lambda(task_4).ipynb\" target=\"_parent\"><img src=\"https://colab.research.google.com/assets/colab-badge.svg\" alt=\"Open In Colab\"/></a>"
      ]
    },
    {
      "cell_type": "markdown",
      "id": "46b0f0f7-d97b-48c4-a8e4-77f5db6950d2",
      "metadata": {
        "id": "46b0f0f7-d97b-48c4-a8e4-77f5db6950d2"
      },
      "source": [
        "#TASK 4.1\n",
        "Write a program to create a function show_employee() using the following conditions.\n",
        "It should accept the employee’s name and salary and display both.\n",
        "If the salary is missing in the function call then assign default value 9000 to salary\n",
        "\n"
      ]
    },
    {
      "cell_type": "code",
      "execution_count": null,
      "id": "e92013fc-93d3-4d0b-a449-0c5177916448",
      "metadata": {
        "id": "e92013fc-93d3-4d0b-a449-0c5177916448",
        "outputId": "308942f3-7b14-4e6e-bf8e-114fa882b0a1",
        "colab": {
          "base_uri": "https://localhost:8080/"
        }
      },
      "outputs": [
        {
          "output_type": "stream",
          "name": "stdout",
          "text": [
            "arjun 1200\n",
            "ammu 9000\n"
          ]
        }
      ],
      "source": [
        "def employee_name(name,salary=9000):\n",
        "    print(name,salary)\n",
        "employee_name(\"arjun\",1200)\n",
        "employee_name(\"ammu\")"
      ]
    },
    {
      "cell_type": "markdown",
      "id": "2c138a84-400b-41bf-add1-71bd01dff26f",
      "metadata": {
        "id": "2c138a84-400b-41bf-add1-71bd01dff26f"
      },
      "source": [
        "#TASK 4.2\n",
        "Create an inner function to calculate the addition in the following way\n",
        "Create an outer function that will accept two parameters, a and b\n",
        "Create an inner function inside an outer function that will calculate the addition of a and b\n",
        "At last, an outer function will add 5 into addition and return it\n"
      ]
    },
    {
      "cell_type": "code",
      "execution_count": null,
      "id": "7fc2e1d1-dfb3-4003-8e30-f1282ade9eb8",
      "metadata": {
        "id": "7fc2e1d1-dfb3-4003-8e30-f1282ade9eb8",
        "outputId": "e318f130-9497-4a5e-f2bc-ac7997772d0d",
        "colab": {
          "base_uri": "https://localhost:8080/"
        }
      },
      "outputs": [
        {
          "output_type": "stream",
          "name": "stdout",
          "text": [
            "enter the first number:6\n",
            "enter the second number:8\n",
            "the final result is 19\n"
          ]
        }
      ],
      "source": [
        "def my_func(a,b):\n",
        "    def my_func2(a,b):\n",
        "        return a+b\n",
        "    return my_func2(a,b)+5\n",
        "\n",
        "a=int(input(\"enter the first number:\"))\n",
        "b=int(input(\"enter the second number:\"))\n",
        "\n",
        "result=my_func(a,b)\n",
        "print(f\"the final result is {result}\")\n"
      ]
    },
    {
      "cell_type": "markdown",
      "id": "b0f43299-6158-4eaf-a445-8b3f73c2a858",
      "metadata": {
        "id": "b0f43299-6158-4eaf-a445-8b3f73c2a858"
      },
      "source": [
        "#TASK 4.3\n",
        "Generate a Python list of all the even numbers between 4 to 30"
      ]
    },
    {
      "cell_type": "code",
      "execution_count": null,
      "id": "7bf0a6df-442b-499c-861f-e1a39c67c387",
      "metadata": {
        "id": "7bf0a6df-442b-499c-861f-e1a39c67c387",
        "outputId": "65c02ed3-f7bc-466e-f0e6-f8f6a0e324c6",
        "colab": {
          "base_uri": "https://localhost:8080/"
        }
      },
      "outputs": [
        {
          "output_type": "stream",
          "name": "stdout",
          "text": [
            "[4, 6, 8, 10, 12, 14, 16, 18, 20, 22, 24, 26, 28, 30, 32, 34, 36, 38, 40]\n"
          ]
        }
      ],
      "source": [
        "\n",
        "mylist=[i for i in range(3,41) if i%2==0]\n",
        "print(mylist)"
      ]
    },
    {
      "cell_type": "markdown",
      "id": "fc010a96-d954-4959-97f0-afa946a165eb",
      "metadata": {
        "id": "fc010a96-d954-4959-97f0-afa946a165eb"
      },
      "source": [
        "#TASK 4.4\n",
        "Lambda Function to Check if value is in a List"
      ]
    },
    {
      "cell_type": "code",
      "execution_count": null,
      "id": "c73827e2-9615-4a42-819c-6ebc519931c4",
      "metadata": {
        "id": "c73827e2-9615-4a42-819c-6ebc519931c4",
        "outputId": "92d61ada-c377-4a95-8a8f-1f54c95e45df",
        "colab": {
          "base_uri": "https://localhost:8080/"
        }
      },
      "outputs": [
        {
          "output_type": "stream",
          "name": "stdout",
          "text": [
            "Element is Present in the list\n",
            "Element is  not Present in the list\n"
          ]
        }
      ],
      "source": [
        "mylist=[1,2,3,4,5,6]\n",
        "def check_element(mylist,n):\n",
        "    result=list(filter(lambda x:x==n,mylist))\n",
        "    if result:\n",
        "        print(\"Element is Present in the list\")\n",
        "    else:\n",
        "        print(\"Element is  not Present in the list\")\n",
        "\n",
        "check_element(mylist,2)\n",
        "check_element(mylist,9)"
      ]
    },
    {
      "cell_type": "markdown",
      "id": "8a29ec81-a636-47d9-a46a-3dd5bc38389b",
      "metadata": {
        "id": "8a29ec81-a636-47d9-a46a-3dd5bc38389b"
      },
      "source": [
        "#TASK 4.5\n",
        "Sort the points based on their sum of elements in the tuples\n"
      ]
    },
    {
      "cell_type": "code",
      "execution_count": null,
      "id": "f42cfa99-1c2a-481a-ade2-e50ae98a3a5e",
      "metadata": {
        "id": "f42cfa99-1c2a-481a-ade2-e50ae98a3a5e",
        "outputId": "6e0b16cc-1833-433e-c349-3843f538cae1",
        "colab": {
          "base_uri": "https://localhost:8080/"
        }
      },
      "outputs": [
        {
          "output_type": "stream",
          "name": "stdout",
          "text": [
            "[(1, 2), (3, 1), (0, 7), (5, 3)]\n"
          ]
        }
      ],
      "source": [
        "my_tuple=[(1, 2), (5, 3), (0, 7), (3, 1)]\n",
        "my_tuple.sort(key=lambda x:x[0]+x[1])\n",
        "print(my_tuple)"
      ]
    },
    {
      "cell_type": "markdown",
      "id": "7afdb7fd-2f70-4b43-bde0-cb0b2cd7c009",
      "metadata": {
        "id": "7afdb7fd-2f70-4b43-bde0-cb0b2cd7c009"
      },
      "source": [
        "#TASK 4.6\n",
        "Write a python function, which will find all such numbers between 1000 and 3000 (both included) such that each digit of the number is an even number. Return the results as a list\n"
      ]
    },
    {
      "cell_type": "code",
      "execution_count": null,
      "id": "189fe4a6-e137-4e8e-b60b-9c8e2332905e",
      "metadata": {
        "id": "189fe4a6-e137-4e8e-b60b-9c8e2332905e",
        "outputId": "1d533607-b638-4ec0-dc5b-a742526bb59e",
        "colab": {
          "base_uri": "https://localhost:8080/"
        }
      },
      "outputs": [
        {
          "output_type": "stream",
          "name": "stdout",
          "text": [
            "['2000', '2002', '2004', '2006', '2008', '2020', '2022', '2024', '2026', '2028', '2040', '2042', '2044', '2046', '2048', '2060', '2062', '2064', '2066', '2068', '2080', '2082', '2084', '2086', '2088', '2200', '2202', '2204', '2206', '2208', '2220', '2222', '2224', '2226', '2228', '2240', '2242', '2244', '2246', '2248', '2260', '2262', '2264', '2266', '2268', '2280', '2282', '2284', '2286', '2288', '2400', '2402', '2404', '2406', '2408', '2420', '2422', '2424', '2426', '2428', '2440', '2442', '2444', '2446', '2448', '2460', '2462', '2464', '2466', '2468', '2480', '2482', '2484', '2486', '2488', '2600', '2602', '2604', '2606', '2608', '2620', '2622', '2624', '2626', '2628', '2640', '2642', '2644', '2646', '2648', '2660', '2662', '2664', '2666', '2668', '2680', '2682', '2684', '2686', '2688', '2800', '2802', '2804', '2806', '2808', '2820', '2822', '2824', '2826', '2828', '2840', '2842', '2844', '2846', '2848', '2860', '2862', '2864', '2866', '2868', '2880', '2882', '2884', '2886', '2888']\n"
          ]
        }
      ],
      "source": [
        "l=[]\n",
        "def even_digits(start_num,end_num):\n",
        "    for i in range(start_num,(end_num+1)):\n",
        "        stri=str(i)\n",
        "        if len(stri)==4 and int(stri[0])%2==0 and int(stri[1])%2==0 and int(stri[2])%2==0 and int(stri[3])%2==0:\n",
        "            l.append(stri)\n",
        "    return l\n",
        "\n",
        "print(even_digits(1000,3000))\n"
      ]
    },
    {
      "cell_type": "markdown",
      "id": "f3feb52c-2a48-49ee-bdce-cc4689171967",
      "metadata": {
        "id": "f3feb52c-2a48-49ee-bdce-cc4689171967"
      },
      "source": [
        "#TASK 4.7\n",
        "Write a python function that accepts a sentence and calculate and return the number of letters and digits."
      ]
    },
    {
      "cell_type": "code",
      "execution_count": 17,
      "id": "a326e67e-6c8d-4d95-8318-1496cb5e7292",
      "metadata": {
        "id": "a326e67e-6c8d-4d95-8318-1496cb5e7292",
        "outputId": "f0c85a33-dc70-4d0f-dcd2-8d1555acfe57",
        "colab": {
          "base_uri": "https://localhost:8080/"
        }
      },
      "outputs": [
        {
          "output_type": "stream",
          "name": "stdout",
          "text": [
            "enter the sentancehelloworld56\n",
            "LETTERS=10\n",
            "NUMBERS=2\n"
          ]
        }
      ],
      "source": [
        "sentance=input(\"enter the sentance\")\n",
        "def letter_number_count(sentance):\n",
        "    letter_count=0\n",
        "    number_count=0\n",
        "    for i in sentance:\n",
        "        if i.isalpha():\n",
        "            letter_count+=1\n",
        "        elif i.isnumeric():\n",
        "            number_count+=1\n",
        "    print(f\"LETTERS={letter_count}\\nNUMBERS={number_count}\")\n",
        "\n",
        "\n",
        "letter_number_count(sentance)\n",
        "\n"
      ]
    },
    {
      "cell_type": "markdown",
      "source": [
        "#TASK 4.8\n",
        "Write a Python program to convert all the characters into uppercase and lowercase and eliminate duplicate letters from a given sequence. Use the map() function"
      ],
      "metadata": {
        "id": "26Z5io3az9OW"
      },
      "id": "26Z5io3az9OW"
    },
    {
      "cell_type": "code",
      "source": [
        "mylist=[\"P\",\"y\",\"T\",\"h\",\"O\",\"N\",\"p\",\"R\",\"o\",\"g\",\"r\",\"A\",\"m\",\"M\",\"I\",\"n\",\"g\"]\n",
        "upper_case=list(map(lambda x:x.upper(),mylist))\n",
        "lower_case=list(map(lambda x:x.lower(),mylist))\n",
        "unique_list=list(filter(lambda x:mylist.count(x)==1,mylist))\n",
        "print(f\"upper case:{upper_case}\")\n",
        "print(f\"lower case:{lower_case}\")\n",
        "print(f\"duplicates removed:{unique_list}\")"
      ],
      "metadata": {
        "colab": {
          "base_uri": "https://localhost:8080/"
        },
        "id": "h7syZz1w0OcR",
        "outputId": "b82dd18e-4a78-4850-e31c-1e5aae38b044"
      },
      "id": "h7syZz1w0OcR",
      "execution_count": 16,
      "outputs": [
        {
          "output_type": "stream",
          "name": "stdout",
          "text": [
            "upper case:['P', 'Y', 'T', 'H', 'O', 'N', 'P', 'R', 'O', 'G', 'R', 'A', 'M', 'M', 'I', 'N', 'G']\n",
            "lower case:['p', 'y', 't', 'h', 'o', 'n', 'p', 'r', 'o', 'g', 'r', 'a', 'm', 'm', 'i', 'n', 'g']\n",
            "duplicates removed:['P', 'y', 'T', 'h', 'O', 'N', 'p', 'R', 'o', 'r', 'A', 'm', 'M', 'I', 'n']\n"
          ]
        }
      ]
    },
    {
      "cell_type": "markdown",
      "source": [
        "#TASK 4.9\n",
        " Write a Python program to element wise add two given lists and find the difference between them. Use the map() function"
      ],
      "metadata": {
        "id": "KWa4iH7O0dfh"
      },
      "id": "KWa4iH7O0dfh"
    },
    {
      "cell_type": "code",
      "execution_count": 15,
      "id": "655fff98-e04e-407f-b663-049f9e0fcf02",
      "metadata": {
        "id": "655fff98-e04e-407f-b663-049f9e0fcf02",
        "outputId": "aba863ef-83ed-4e30-84d8-a1dfd82cd893",
        "colab": {
          "base_uri": "https://localhost:8080/"
        }
      },
      "outputs": [
        {
          "output_type": "stream",
          "name": "stdout",
          "text": [
            "[6, 8, 10, 12, 14]\n",
            "[4, 4, 4, 4, 4]\n"
          ]
        }
      ],
      "source": [
        "list1=[5,6,7,8,9]\n",
        "list2=[1,2,3,4,5]\n",
        "def sum_dif(list1,list2):\n",
        "    sum_list=list(map(lambda x,y:x+y,list1,list2))\n",
        "    dif_list=list(map(lambda x,y:x-y,list1,list2))\n",
        "    return sum_list,dif_list\n",
        "sum_result,dif_result=sum_dif(list1,list2)\n",
        "print(sum_result)\n",
        "print(dif_result)"
      ]
    },
    {
      "cell_type": "markdown",
      "source": [
        "#TASK 4.10\n",
        "Write a Python program to filter the height and weight of students, which are stored in a dictionary using lambda."
      ],
      "metadata": {
        "id": "00RRGk2I1LQR"
      },
      "id": "00RRGk2I1LQR"
    },
    {
      "cell_type": "code",
      "source": [
        "my_dict={'Cierra Vega': (6.2, 71), 'Alden Cantrell': (5.9, 65), 'Kierra Gentry': (6.0, 68), 'Pierre Cox': (5.8, 66)}\n",
        "filtered_dict=dict((filter(lambda x:x[1][0]>6 and x[1][1]>70,my_dict.items())))\n",
        "print(filtered_dict)"
      ],
      "metadata": {
        "colab": {
          "base_uri": "https://localhost:8080/"
        },
        "id": "Kijr45jX1Loo",
        "outputId": "619ba99a-e2c1-4b01-920f-3e3c6b4d5f34"
      },
      "id": "Kijr45jX1Loo",
      "execution_count": 14,
      "outputs": [
        {
          "output_type": "stream",
          "name": "stdout",
          "text": [
            "{'Cierra Vega': (6.2, 71)}\n"
          ]
        }
      ]
    },
    {
      "cell_type": "markdown",
      "id": "6a481997-682b-4206-bfc3-848e41f5bd3e",
      "metadata": {
        "id": "6a481997-682b-4206-bfc3-848e41f5bd3e"
      },
      "source": [
        "#TASK 4.11\n",
        "Write a Python program to remove all elements from a given list present in another list using lambda"
      ]
    },
    {
      "cell_type": "code",
      "execution_count": 13,
      "id": "b41bd05a-2774-49c0-87bc-08faf801fc76",
      "metadata": {
        "id": "b41bd05a-2774-49c0-87bc-08faf801fc76",
        "outputId": "24527fcc-61bb-40cd-9ea5-1d150314bc28",
        "colab": {
          "base_uri": "https://localhost:8080/"
        }
      },
      "outputs": [
        {
          "output_type": "stream",
          "name": "stdout",
          "text": [
            "[1, 3, 5, 7, 9, 10]\n"
          ]
        }
      ],
      "source": [
        "list1=[1, 2, 3, 4, 5, 6, 7, 8, 9, 10]\n",
        "list2=[2, 4, 6, 8]\n",
        "list1=list(filter(lambda x: x not in list2,list1))\n",
        "print(list1)"
      ]
    },
    {
      "cell_type": "markdown",
      "source": [
        "#TASK 4.12\n",
        "Write a Python program to calculate the product of a given list of numbers using lambda.\n"
      ],
      "metadata": {
        "id": "fs-yYleI2_Dx"
      },
      "id": "fs-yYleI2_Dx"
    },
    {
      "cell_type": "code",
      "source": [
        "from functools import reduce\n",
        "\n",
        "list1=[1, 2, 3, 4, 5, 6, 7, 8, 9, 10]\n",
        "product_list=reduce(lambda x,y:x*y,list1)\n",
        "print(\"product:\",product_list)"
      ],
      "metadata": {
        "colab": {
          "base_uri": "https://localhost:8080/"
        },
        "id": "PQEIpnZC2_Si",
        "outputId": "a753707a-836e-43c1-cc5a-8b2017d3a96a"
      },
      "id": "PQEIpnZC2_Si",
      "execution_count": 12,
      "outputs": [
        {
          "output_type": "stream",
          "name": "stdout",
          "text": [
            "product: 3628800\n"
          ]
        }
      ]
    },
    {
      "cell_type": "markdown",
      "source": [
        "#TASK 4.13\n",
        " Write a Python program to multiply all the numbers in a given list using lambda"
      ],
      "metadata": {
        "id": "XRCoTqzn3KGB"
      },
      "id": "XRCoTqzn3KGB"
    },
    {
      "cell_type": "code",
      "source": [
        "from functools import reduce\n",
        "\n",
        "\n",
        "list2=[4, 3, 2, 2, -1, 18]\n",
        "mul_list=reduce(lambda x,y:x*y,list2)\n",
        "print(\"multiplied list:\",mul_list)"
      ],
      "metadata": {
        "colab": {
          "base_uri": "https://localhost:8080/"
        },
        "id": "-cUdqORb33LZ",
        "outputId": "703dd58b-dc6e-45db-e8b6-3329f6144d4d"
      },
      "id": "-cUdqORb33LZ",
      "execution_count": 11,
      "outputs": [
        {
          "output_type": "stream",
          "name": "stdout",
          "text": [
            "multiplied list: -864\n"
          ]
        }
      ]
    },
    {
      "cell_type": "markdown",
      "source": [
        "#TASK 4.14\n",
        "Write a Python program to calculate the average value of the numbers in a given tuple of tuples using lambda.\n"
      ],
      "metadata": {
        "id": "SRcL8ZAH8nlh"
      },
      "id": "SRcL8ZAH8nlh"
    },
    {
      "cell_type": "code",
      "source": [
        "from functools import reduce\n",
        "\n",
        "\n",
        "numbers_tuple = ((10, 10, 10), (30, 45, 56), (81, 80, 39), (1, 2, 3))\n",
        "sum_tuples = reduce(lambda x, y: tuple(map(sum, zip(x, y))), numbers_tuple)\n",
        "average_tuple = tuple(map(lambda x: x / len(numbers_tuple), sum_tuples))\n",
        "print(average_tuple)\n"
      ],
      "metadata": {
        "colab": {
          "base_uri": "https://localhost:8080/"
        },
        "id": "Zx-RE4-t8oKp",
        "outputId": "1e3af967-2e28-4359-eb49-17ed15e1ef51"
      },
      "id": "Zx-RE4-t8oKp",
      "execution_count": 10,
      "outputs": [
        {
          "output_type": "stream",
          "name": "stdout",
          "text": [
            "(30.5, 34.25, 27.0)\n"
          ]
        }
      ]
    },
    {
      "cell_type": "markdown",
      "source": [
        "#TASK 4.15\n",
        "Write a Python program to sort a given mixed list of integers and strings using lambda. Numbers must be sorted before strings"
      ],
      "metadata": {
        "id": "-nPRUyc8890z"
      },
      "id": "-nPRUyc8890z"
    },
    {
      "cell_type": "code",
      "source": [
        "mixed_list = [19, 'red', 12, 'green', 'blue', 10, 'white', 'green', 1]\n",
        "\n",
        "mixed_list.sort(key=lambda x: (isinstance(x, str), x))\n",
        "print(mixed_list)\n"
      ],
      "metadata": {
        "colab": {
          "base_uri": "https://localhost:8080/"
        },
        "id": "qKfZj3ki898Y",
        "outputId": "2f7d283e-9b4e-4327-e952-17ce1fa5039b"
      },
      "id": "qKfZj3ki898Y",
      "execution_count": 9,
      "outputs": [
        {
          "output_type": "stream",
          "name": "stdout",
          "text": [
            "[1, 10, 12, 19, 'blue', 'green', 'green', 'red', 'white']\n"
          ]
        }
      ]
    },
    {
      "cell_type": "markdown",
      "source": [
        "#TASK 4.16\n",
        "Write a Python program to count the occurrences of items in a given list using lambda.\n"
      ],
      "metadata": {
        "id": "jlX5aPgI9AOh"
      },
      "id": "jlX5aPgI9AOh"
    },
    {
      "cell_type": "code",
      "source": [
        "my_list =[3, 4, 5, 8, 0, 3, 8, 5, 0, 3, 1, 5, 2, 3, 4, 2]\n",
        "\n",
        "\n",
        "occurrences = dict(map(lambda x: (x, my_list.count(x)), my_list))\n",
        "\n",
        "print(occurrences)"
      ],
      "metadata": {
        "colab": {
          "base_uri": "https://localhost:8080/"
        },
        "id": "TaogoHmD9A_5",
        "outputId": "c85ed3f2-4f6c-4364-d1a5-735160dbb1c0"
      },
      "id": "TaogoHmD9A_5",
      "execution_count": 8,
      "outputs": [
        {
          "output_type": "stream",
          "name": "stdout",
          "text": [
            "{3: 4, 4: 2, 5: 3, 8: 2, 0: 2, 1: 1, 2: 2}\n"
          ]
        }
      ]
    },
    {
      "cell_type": "markdown",
      "id": "42fce085-226a-40ad-b76d-d3b0d5dbf144",
      "metadata": {
        "id": "42fce085-226a-40ad-b76d-d3b0d5dbf144"
      },
      "source": [
        "#TASK 4.17\n",
        "Write a Python program to remove None values from a given list using the lambda function.\n"
      ]
    },
    {
      "cell_type": "code",
      "execution_count": 7,
      "id": "32ab53af-fced-4af8-b7b7-123d59ddcab6",
      "metadata": {
        "id": "32ab53af-fced-4af8-b7b7-123d59ddcab6",
        "outputId": "5b5af250-ab7d-49c7-9371-28b04827565a",
        "colab": {
          "base_uri": "https://localhost:8080/"
        }
      },
      "outputs": [
        {
          "output_type": "stream",
          "name": "stdout",
          "text": [
            "[12, 0, 23, -55, 234, 89, 0, 6, -12]\n"
          ]
        }
      ],
      "source": [
        "mylist=[12, 0, None, 23, None, -55, 234, 89, None, 0, 6, -12]\n",
        "\n",
        "mylist=(list(filter(lambda x: x !=None,mylist)))\n",
        "print(mylist)"
      ]
    }
  ],
  "metadata": {
    "kernelspec": {
      "display_name": "Python 3 (ipykernel)",
      "language": "python",
      "name": "python3"
    },
    "language_info": {
      "codemirror_mode": {
        "name": "ipython",
        "version": 3
      },
      "file_extension": ".py",
      "mimetype": "text/x-python",
      "name": "python",
      "nbconvert_exporter": "python",
      "pygments_lexer": "ipython3",
      "version": "3.11.7"
    },
    "colab": {
      "provenance": [],
      "include_colab_link": true
    }
  },
  "nbformat": 4,
  "nbformat_minor": 5
}