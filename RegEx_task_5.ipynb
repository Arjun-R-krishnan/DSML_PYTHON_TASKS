{
  "nbformat": 4,
  "nbformat_minor": 0,
  "metadata": {
    "colab": {
      "provenance": [],
      "include_colab_link": true
    },
    "kernelspec": {
      "name": "python3",
      "display_name": "Python 3"
    },
    "language_info": {
      "name": "python"
    }
  },
  "cells": [
    {
      "cell_type": "markdown",
      "metadata": {
        "id": "view-in-github",
        "colab_type": "text"
      },
      "source": [
        "<a href=\"https://colab.research.google.com/github/Arjun-R-krishnan/DSML_PYTHON_TASKS/blob/main/RegEx_task_5.ipynb\" target=\"_parent\"><img src=\"https://colab.research.google.com/assets/colab-badge.svg\" alt=\"Open In Colab\"/></a>"
      ]
    },
    {
      "cell_type": "markdown",
      "source": [
        "1. Write a Python program to check that a string contains only a certain set of characters (in this case a-z, A-Z and 0-9).\n",
        "\n"
      ],
      "metadata": {
        "id": "fpQX9wBhb6ox"
      }
    },
    {
      "cell_type": "code",
      "execution_count": 1,
      "metadata": {
        "id": "5HKhizIkbt59",
        "outputId": "3a934703-1dcd-4055-e815-d6fee61910e1",
        "colab": {
          "base_uri": "https://localhost:8080/"
        }
      },
      "outputs": [
        {
          "output_type": "stream",
          "name": "stdout",
          "text": [
            "enter the string:hui43f\n",
            " the string is a match\n"
          ]
        }
      ],
      "source": [
        "import re\n",
        "\n",
        "input_string=input(\"enter the string:\")\n",
        "pattern =(r'^[a-zA-Z0-9]+$')\n",
        "if re.match(pattern,input_string):\n",
        "  print(\" the string is a match\")\n",
        "else:\n",
        "  print(\"string is not matching\")"
      ]
    },
    {
      "cell_type": "markdown",
      "source": [
        "2. Write a Python program that matches a string that has an a followed by zero or more b's.\n",
        "\n"
      ],
      "metadata": {
        "id": "rtdxRzltcRtS"
      }
    },
    {
      "cell_type": "code",
      "source": [
        "import re\n",
        "\n",
        "txt = input(\"Enter the string: \")\n",
        "match_found = re.search(r'ab*', txt)\n",
        "\n",
        "if match_found:\n",
        "    print(\"Match found:\", match_found.group())\n",
        "else:\n",
        "    print(\"No match found.\")"
      ],
      "metadata": {
        "id": "ZjdCBYZAcZGl",
        "outputId": "c7b2d1e7-94f2-4703-d22a-9c57a6087d3b",
        "colab": {
          "base_uri": "https://localhost:8080/"
        }
      },
      "execution_count": null,
      "outputs": [
        {
          "output_type": "stream",
          "name": "stdout",
          "text": [
            "Enter the string: jjj hii abb kd \n",
            "Match found: abb\n"
          ]
        }
      ]
    },
    {
      "cell_type": "markdown",
      "source": [
        "3. Replace only the first occurrence of 5 with five for the given string\n",
        "\n"
      ],
      "metadata": {
        "id": "kyvbz3eNcZri"
      }
    },
    {
      "cell_type": "code",
      "source": [
        "ip = 'They ate 5 apples and 5 oranges'\n",
        "import re\n",
        "\n",
        "replaced_ip = re.sub(\"5\", \"Five\", ip,1)\n",
        "print(replaced_ip)\n",
        "\n"
      ],
      "metadata": {
        "id": "pgZy45dxcqSg",
        "outputId": "3a8866d7-c82a-45c8-9055-5296e5a2cb13",
        "colab": {
          "base_uri": "https://localhost:8080/"
        }
      },
      "execution_count": null,
      "outputs": [
        {
          "output_type": "stream",
          "name": "stdout",
          "text": [
            "They ate Five apples and 5 oranges\n"
          ]
        }
      ]
    },
    {
      "cell_type": "markdown",
      "source": [
        "4. Write a Python program that matches a string that has an a followed by three 'b'.\n",
        "\n"
      ],
      "metadata": {
        "id": "h_b1-o6ncuzM"
      }
    },
    {
      "cell_type": "code",
      "source": [
        "import re\n",
        "\n",
        "txt = input(\"Enter the string: \")\n",
        "match_found = re.search(r'ab{3}', txt)\n",
        "\n",
        "if match_found:\n",
        "    print(\"Match found:\", match_found.group())\n",
        "else:\n",
        "    print(\"No match found.\")\n"
      ],
      "metadata": {
        "id": "eWIRl3LccqwE",
        "outputId": "601be860-f319-4dc0-a52f-9995156946d1",
        "colab": {
          "base_uri": "https://localhost:8080/"
        }
      },
      "execution_count": null,
      "outputs": [
        {
          "output_type": "stream",
          "name": "stdout",
          "text": [
            "Enter the string: ad abb abbb gf dd\n",
            "Match found: abbb\n"
          ]
        }
      ]
    },
    {
      "cell_type": "markdown",
      "source": [
        "5. Write a Python program that matches a string that has an 'a' followed by anything ending in 'b'.\n",
        "\n"
      ],
      "metadata": {
        "id": "K2vPe01bc2LN"
      }
    },
    {
      "cell_type": "code",
      "source": [
        "import re\n",
        "\n",
        "txt = input(\"Enter the string: \")\n",
        "match_found = re.search(r'a\\S*b\\b', txt)\n",
        "\n",
        "if match_found:\n",
        "    print(\"Match found:\", match_found.group())\n",
        "else:\n",
        "    print(\"No match found.\")\n"
      ],
      "metadata": {
        "id": "f8KfX59qc3UJ",
        "outputId": "ae38ae44-ce54-4e3a-ad94-5b20c834e59b",
        "colab": {
          "base_uri": "https://localhost:8080/"
        }
      },
      "execution_count": null,
      "outputs": [
        {
          "output_type": "stream",
          "name": "stdout",
          "text": [
            "Enter the string: tftfy guyu adddb ff\n",
            "Match found: adddb\n"
          ]
        }
      ]
    },
    {
      "cell_type": "markdown",
      "source": [
        "6. Write a Python program to search for numbers (0-9) of length between 1 and 3 in a given string."
      ],
      "metadata": {
        "id": "NyL-DhqXdZi7"
      }
    },
    {
      "cell_type": "code",
      "source": [
        "import re\n",
        "\n",
        "txt=\"Exercises number 1, 12, 13, and 345 are important\"\n",
        "match_found = re.findall(r'\\d{1,3}', txt)\n",
        "\n",
        "if match_found:\n",
        "    print(\"Match found:\", match_found)\n",
        "else:\n",
        "    print(\"No match found.\")\n"
      ],
      "metadata": {
        "id": "pWsu0HljdnKX",
        "colab": {
          "base_uri": "https://localhost:8080/"
        },
        "outputId": "7b5f2585-4e27-4609-b689-f334770930a0"
      },
      "execution_count": null,
      "outputs": [
        {
          "output_type": "stream",
          "name": "stdout",
          "text": [
            "Match found: ['1', '12', '13', '345']\n"
          ]
        }
      ]
    },
    {
      "cell_type": "markdown",
      "source": [
        "7. Write a Python program to search for literal strings within a string.\\\n",
        "Sample text : 'The quick brown fox jumps over the lazy dog.' \\\n",
        "Searched words : 'fox', 'dog', 'horse'"
      ],
      "metadata": {
        "id": "aWaHWXFjdqy7"
      }
    },
    {
      "cell_type": "code",
      "source": [
        "import re\n",
        "patterns = [ 'fox', 'dog', 'horse' ]\n",
        "text = 'The quick brown fox jumps over the lazy dog.'\n",
        "for pattern in patterns:\n",
        "    print(f\"Searching for {pattern} in {text}\")\n",
        "    if re.search(pattern,  text):\n",
        "        print('Matched!')\n",
        "    else:\n",
        "        print('Not Matched!')"
      ],
      "metadata": {
        "id": "bVAMeTMddnmf",
        "colab": {
          "base_uri": "https://localhost:8080/"
        },
        "outputId": "99e4c658-aec7-4daa-dd49-4c82355f2708"
      },
      "execution_count": 2,
      "outputs": [
        {
          "output_type": "stream",
          "name": "stdout",
          "text": [
            "Searching for fox in The quick brown fox jumps over the lazy dog.\n",
            "Matched!\n",
            "Searching for dog in The quick brown fox jumps over the lazy dog.\n",
            "Matched!\n",
            "Searching for horse in The quick brown fox jumps over the lazy dog.\n",
            "Not Matched!\n"
          ]
        }
      ]
    },
    {
      "cell_type": "markdown",
      "source": [
        "8. Write a Python program to search for a literal string in a string and also find the location within the original string where the pattern occurs.\n",
        "\n",
        "Sample text : 'The quick brown fox jumps over the lazy dog.' \\\n",
        "Searched words : 'fox'"
      ],
      "metadata": {
        "id": "2cgZLc6Yd0sE"
      }
    },
    {
      "cell_type": "code",
      "source": [
        "import re\n",
        "text = \"The quick brown fox jumps over the lazy dog.\"\n",
        "pattern =\"fox\"\n",
        "\n",
        "\n",
        "match= re.search(pattern,  text)\n",
        "if match:\n",
        "    s=match.start()\n",
        "    e=match.end()\n",
        "    print(f\"match found at {s}-{e-1}\")\n",
        "else:\n",
        "    print(\"match not found\")"
      ],
      "metadata": {
        "id": "Tj1FCCx4d3zZ",
        "colab": {
          "base_uri": "https://localhost:8080/"
        },
        "outputId": "5694e8ee-2029-4373-9f6a-8e35f6a7219b"
      },
      "execution_count": 4,
      "outputs": [
        {
          "output_type": "stream",
          "name": "stdout",
          "text": [
            "match found at 16-18\n"
          ]
        }
      ]
    },
    {
      "cell_type": "markdown",
      "source": [
        "9.  Write a Python program to extract year, month and date from an URL"
      ],
      "metadata": {
        "id": "ixuwdsnvdtcP"
      }
    },
    {
      "cell_type": "code",
      "source": [
        "import re\n",
        "url1= \"https://www.washingtonpost.com/news/football-insider/wp/2016/09/02/odell-beckhams-fame-rests-on-one-stupid-little-ball-josh-norman-tells-author/\"\n"
      ],
      "metadata": {
        "id": "uWA2_OfJeFpw"
      },
      "execution_count": 5,
      "outputs": []
    },
    {
      "cell_type": "code",
      "source": [
        "import re\n",
        "url1= \"https://www.washingtonpost.com/news/football-insider/wp/2016/09/02/odell-beckhams-fame-rests-on-one-stupid-little-ball-josh-norman\"\n",
        "p=re.compile('\\d{4}/\\d{2}/\\d{2}/')\n",
        "print(p.findall(url1))"
      ],
      "metadata": {
        "colab": {
          "base_uri": "https://localhost:8080/"
        },
        "id": "CF4ioOhsiyNn",
        "outputId": "f18d7c2e-b429-47ff-952d-83e4cdb66e97"
      },
      "execution_count": null,
      "outputs": [
        {
          "output_type": "stream",
          "name": "stdout",
          "text": [
            "['2016/09/02/']\n"
          ]
        }
      ]
    },
    {
      "cell_type": "markdown",
      "source": [
        "10. Write a Python program to find URLs in a string.\n",
        "\n"
      ],
      "metadata": {
        "id": "Qdob8Ojkea-W"
      }
    },
    {
      "cell_type": "code",
      "source": [
        "text = '<p>Contents :</p><a href=\"https://w3resource.com\">Python Examples</a><a href=\"http://github.com\">Even More Examples</a>'\n",
        "import re\n",
        "\n",
        "url_pattern = (r'https?://\\S+\\.com')\n",
        "\n",
        "urls = re.findall(url_pattern,text)\n",
        "\n",
        "print(\"Found URLs:\")\n",
        "for url in urls:\n",
        "    print(url)\n"
      ],
      "metadata": {
        "id": "d9KUcdQEeIJu",
        "colab": {
          "base_uri": "https://localhost:8080/"
        },
        "outputId": "5a3aa1ea-8e59-4828-8f4a-7a018b1e20c1"
      },
      "execution_count": 6,
      "outputs": [
        {
          "output_type": "stream",
          "name": "stdout",
          "text": [
            "Found URLs:\n",
            "https://w3resource.com\n",
            "http://github.com\n"
          ]
        }
      ]
    },
    {
      "cell_type": "markdown",
      "source": [
        "11. Write a Python program to remove the parenthesis area in a string.\\\n",
        "\n",
        "Sample data : [\"example (.com)\", \"w3resource\", \"github (.com)\", \"stackoverflow (.com)\"] \\\n",
        "Expected Output: \\\n",
        "example  \\\n",
        "w3resource \\\n",
        "github  \\\n",
        "stackoverflow. \\\n",
        "\n"
      ],
      "metadata": {
        "id": "5mX_cCEFepSi"
      }
    },
    {
      "cell_type": "code",
      "source": [
        "import re\n",
        "\n",
        "Sample_data = [\"example (.com)\", \"w3resource\", \"github (.com)\", \"stackoverflow (.com)\"]\n",
        "pattern = r\"\\([^)]*\\)\"\n",
        "result_list = [re.sub(pattern, \"\", string) for string in Sample_data]\n",
        "for i in result_list:\n",
        "    print(i)"
      ],
      "metadata": {
        "id": "CNYOSWfLee_M",
        "colab": {
          "base_uri": "https://localhost:8080/"
        },
        "outputId": "0bb77ef2-0ede-4a1b-d1ea-00b8e7e49535"
      },
      "execution_count": 8,
      "outputs": [
        {
          "output_type": "stream",
          "name": "stdout",
          "text": [
            "example \n",
            "w3resource\n",
            "github \n",
            "stackoverflow \n"
          ]
        }
      ]
    },
    {
      "cell_type": "markdown",
      "source": [
        "12. Write a Python program to concatenate the consecutive numbers in a given string. \\\n",
        "\n",
        "Original string:  \\\n",
        "Enter at 1 20 Kearny Street. The security desk can direct you to floor 1 6. Please have your identification ready.  \\\n",
        "\n",
        "After concatenating the consecutive numbers in the said string:  \\\n",
        "Enter at 120 Kearny Street. The security desk can direct you to floor 16. Please have your identification ready."
      ],
      "metadata": {
        "id": "sRhveFHXe7nz"
      }
    },
    {
      "cell_type": "code",
      "source": [
        "import re\n",
        "original_string=\"Enter at 1 20 Kearny Street. The security desk can direct you to floor 1 6. Please have your identification ready\"\n",
        "result_string=re.sub(r\"(?<=\\d)\\s(?=\\d)\", '', original_string)\n",
        "print(f\"original_string:{original_string}\")\n",
        "print(f\"result_tring:{result_string}\")"
      ],
      "metadata": {
        "id": "4dcBL0RTe_zP",
        "colab": {
          "base_uri": "https://localhost:8080/"
        },
        "outputId": "1b236dca-506c-420b-8cd3-fd36ae2557f7"
      },
      "execution_count": 10,
      "outputs": [
        {
          "output_type": "stream",
          "name": "stdout",
          "text": [
            "original_string:Enter at 1 20 Kearny Street. The security desk can direct you to floor 1 6. Please have your identification ready\n",
            "result_tring:Enter at 120 Kearny Street. The security desk can direct you to floor 16. Please have your identification ready\n"
          ]
        }
      ]
    },
    {
      "cell_type": "markdown",
      "source": [],
      "metadata": {
        "id": "rENrD10afBB3"
      }
    }
  ]
}