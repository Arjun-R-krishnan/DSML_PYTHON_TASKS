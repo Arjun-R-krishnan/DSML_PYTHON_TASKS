{
  "cells": [
    {
      "cell_type": "markdown",
      "metadata": {
        "id": "view-in-github",
        "colab_type": "text"
      },
      "source": [
        "<a href=\"https://colab.research.google.com/github/Arjun-R-krishnan/DSML_PYTHON_TASKS/blob/main/DSML_TASK2.ipynb\" target=\"_parent\"><img src=\"https://colab.research.google.com/assets/colab-badge.svg\" alt=\"Open In Colab\"/></a>"
      ]
    },
    {
      "cell_type": "markdown",
      "metadata": {
        "id": "j5IC_l7VUNoU"
      },
      "source": [
        "#TASK 2.1\n",
        "##Write a Python program to sum all the items in a list"
      ]
    },
    {
      "cell_type": "code",
      "execution_count": 51,
      "metadata": {
        "colab": {
          "base_uri": "https://localhost:8080/"
        },
        "id": "a75LSuElUVGz",
        "outputId": "0fffda8c-b6fb-4293-a242-8ce274fa028f"
      },
      "outputs": [
        {
          "output_type": "stream",
          "name": "stdout",
          "text": [
            "the sum of the list is 46\n"
          ]
        }
      ],
      "source": [
        "list1=[1,2,5,8,10,20]\n",
        "sum=0\n",
        "for i in list1:\n",
        "    sum+=int(i)\n",
        "print(f\"the sum of the list is {sum}\")"
      ]
    },
    {
      "cell_type": "markdown",
      "metadata": {
        "id": "L7LUxgoYVQw-"
      },
      "source": [
        "#TASK 2.2\n",
        "##Write a Python program to get the largest number from a lis"
      ]
    },
    {
      "cell_type": "code",
      "execution_count": 52,
      "metadata": {
        "colab": {
          "base_uri": "https://localhost:8080/"
        },
        "id": "T8YiNNY6Vdwm",
        "outputId": "1471254c-48e4-46e6-e3c8-d8d4399f2953"
      },
      "outputs": [
        {
          "output_type": "stream",
          "name": "stdout",
          "text": [
            "The largest number in the list is: 8\n"
          ]
        }
      ],
      "source": [
        "list2=[1,4,6,8,3,7]\n",
        "largest_number=0\n",
        "for num in list2:\n",
        "    if num > largest_number:\n",
        "        largest_number = num\n",
        "print(\"The largest number in the list is:\", largest_number)"
      ]
    },
    {
      "cell_type": "markdown",
      "metadata": {
        "id": "CJ9wKhD0WALR"
      },
      "source": [
        "#TASK 2.3\n",
        "##Write a Python program to count the number of strings from a given list of strings. The string length is 2 or more and the first and last characters are the same."
      ]
    },
    {
      "cell_type": "code",
      "execution_count": 53,
      "metadata": {
        "colab": {
          "base_uri": "https://localhost:8080/"
        },
        "id": "RNfXQFllWN_4",
        "outputId": "9ea7fb68-f434-43a1-de2c-1c5c11e6bd48"
      },
      "outputs": [
        {
          "output_type": "stream",
          "name": "stdout",
          "text": [
            "the number of strings with length 2 and same first and last letters are: 4\n"
          ]
        }
      ],
      "source": [
        "list_of_str=[\"aba\",\"898\",\"cool\",\"mango\",\"ono\",\"67545\",\"ekke\"]\n",
        "b=0\n",
        "for i in list_of_str:\n",
        "    if(len(i)>=2) and (i[0]==i[-1]):\n",
        "        b+=1\n",
        "print(f\"the number of strings with length 2 and same first and last letters are: {b}\")"
      ]
    },
    {
      "cell_type": "markdown",
      "metadata": {
        "id": "qbEqa_CxW_Jy"
      },
      "source": [
        "#TASK 2.4\n",
        "##Write a Python program to remove duplicates from a list"
      ]
    },
    {
      "cell_type": "code",
      "execution_count": 54,
      "metadata": {
        "colab": {
          "base_uri": "https://localhost:8080/"
        },
        "id": "CrXitvSGXK93",
        "outputId": "fce36383-5a96-4ddb-db59-218007e552a6"
      },
      "outputs": [
        {
          "output_type": "stream",
          "name": "stdout",
          "text": [
            "[1, 2, 100, 5, 8, 9, 76, 23]\n"
          ]
        }
      ],
      "source": [
        "my_list1=[1,100,8,9,5,8,2,5,2,8,23,76,5]\n",
        "my_list2=[]\n",
        "for i in set(my_list1):\n",
        "  my_list2.append(i)\n",
        "print(my_list2)"
      ]
    },
    {
      "cell_type": "markdown",
      "metadata": {
        "id": "J2X0BAZcer3W"
      },
      "source": []
    },
    {
      "cell_type": "markdown",
      "metadata": {
        "id": "FqEhprqjacux"
      },
      "source": [
        "#TASK 2.5\n",
        "##Write a Python program to check if a list is empty or not"
      ]
    },
    {
      "cell_type": "code",
      "execution_count": 55,
      "metadata": {
        "colab": {
          "base_uri": "https://localhost:8080/"
        },
        "id": "x0zhO6sHanug",
        "outputId": "b0854dd2-e421-47a7-d076-693cbf293aa4"
      },
      "outputs": [
        {
          "output_type": "stream",
          "name": "stdout",
          "text": [
            " the list is empty\n"
          ]
        }
      ],
      "source": [
        "list5=[]\n",
        "if len(list5)==0:\n",
        "    print(\" the list is empty\")\n",
        "else:\n",
        "    print(\"the list is not empty\")"
      ]
    },
    {
      "cell_type": "markdown",
      "metadata": {
        "id": "RyMqiOqxbAAa"
      },
      "source": [
        "#TASK 2.6\n",
        "##Write a Python program to filter the list if the length of the character is < 4\n",
        "\n"
      ]
    },
    {
      "cell_type": "code",
      "execution_count": 56,
      "metadata": {
        "colab": {
          "base_uri": "https://localhost:8080/"
        },
        "id": "ibRUBMW2bnF7",
        "outputId": "c5e874b6-c474-48a3-8566-f8c16354d164"
      },
      "outputs": [
        {
          "output_type": "stream",
          "name": "stdout",
          "text": [
            "['car', 'hai', 'bus']\n"
          ]
        }
      ],
      "source": [
        "list_of_strgs=[\"car\",\"bike\",\"hai\",\"1234\",\"bus\",\"house\"]\n",
        "for i in list_of_strgs:\n",
        "    if(len(i)>3):\n",
        "        list_of_strgs.remove(i)\n",
        "print(list_of_strgs)"
      ]
    },
    {
      "cell_type": "markdown",
      "metadata": {
        "id": "9rZEmr5Ueu9d"
      },
      "source": [
        "#TASK 2.7\n",
        "#Write a Python program to find the second largest number in a list"
      ]
    },
    {
      "cell_type": "code",
      "execution_count": 57,
      "metadata": {
        "colab": {
          "base_uri": "https://localhost:8080/"
        },
        "id": "fH43B4K6evS3",
        "outputId": "cbee5d5b-b975-4757-eea9-5f9527221eda"
      },
      "outputs": [
        {
          "output_type": "stream",
          "name": "stdout",
          "text": [
            "the second largest number is 9\n"
          ]
        }
      ],
      "source": [
        "list6=[1,7,4,9,11,3,6,8]\n",
        "list6.sort(reverse=True)\n",
        "print(f\"the second largest number is {list6[1]}\")"
      ]
    },
    {
      "cell_type": "markdown",
      "metadata": {
        "id": "S5_n3XK-fbuj"
      },
      "source": [
        "#TASK 2.8\n",
        "#Write a Python program to reverse a list at a specific location"
      ]
    },
    {
      "cell_type": "code",
      "execution_count": 58,
      "metadata": {
        "colab": {
          "base_uri": "https://localhost:8080/"
        },
        "id": "bP0e1gUTfcFF",
        "outputId": "0d783c36-984e-461b-c7ef-e421f572065b"
      },
      "outputs": [
        {
          "output_type": "stream",
          "name": "stdout",
          "text": [
            "[1, 2, 7, 6, 5, 4, 3, 8, 9, 10]\n"
          ]
        }
      ],
      "source": [
        "my_list3 = [1, 2, 3, 4, 5,6,7,8,9,10]\n",
        "start = 2\n",
        "end = 6\n",
        "for i in range((end - start) // 2):\n",
        "  my_list3[start + i], my_list3[end - i ] = my_list3[end - i ], my_list3[start + i]\n",
        "\n",
        "print(my_list3)"
      ]
    },
    {
      "cell_type": "markdown",
      "metadata": {
        "id": "Byl70F1lfyL-"
      },
      "source": [
        "#TASK 2.9\n",
        "##Write a Python program to check if a list is a palindrome or not. Return true otherwise false"
      ]
    },
    {
      "cell_type": "code",
      "execution_count": 59,
      "metadata": {
        "colab": {
          "base_uri": "https://localhost:8080/"
        },
        "id": "FaPLcIjXfyr-",
        "outputId": "c0a9847f-7976-4100-cd84-291f085abb35"
      },
      "outputs": [
        {
          "output_type": "stream",
          "name": "stdout",
          "text": [
            "True\n"
          ]
        }
      ],
      "source": [
        "my_list4 = [1,2,3,2,1]\n",
        "palindrome = False\n",
        "if my_list4[::-1]==my_list4:\n",
        "    palindrome=True\n",
        "print(palindrome)"
      ]
    },
    {
      "cell_type": "markdown",
      "metadata": {
        "id": "mV0Su2MPu_md"
      },
      "source": [
        "#TASK 2.10\n",
        "##Write a Python a program to find the union and intersection of two lists"
      ]
    },
    {
      "cell_type": "code",
      "execution_count": 61,
      "metadata": {
        "colab": {
          "base_uri": "https://localhost:8080/"
        },
        "id": "LN-qh-rnu_4C",
        "outputId": "50890cf4-17be-4c06-d423-d7feeb8e0ba0"
      },
      "outputs": [
        {
          "output_type": "stream",
          "name": "stdout",
          "text": [
            "union of the lists:[1, 3, 5, 6, 7, 9, 20, 2, 4, 6, 8, 10, 20]\n",
            "intersection of the lists:[20, 6]\n"
          ]
        }
      ],
      "source": [
        "a=[1,3,5,6,7,9,20]\n",
        "b=[2,4,6,8,10,20]\n",
        "intersection_of_list=[]\n",
        "union_of_lists=a+b\n",
        "intersection_ab=(set(a)&set(b))\n",
        "for i in intersection_ab:\n",
        "  intersection_of_list.append(i)\n",
        "\n",
        "print(f\"union of the lists:{union_of_lists}\")\n",
        "print(f\"intersection of the lists:{intersection_of_list}\")"
      ]
    },
    {
      "cell_type": "markdown",
      "source": [
        "#TASK 2.11\n",
        "##Write a Python script to sort (ascending and descending) a dictionary by value"
      ],
      "metadata": {
        "id": "ab0iW5jYD48-"
      }
    },
    {
      "cell_type": "code",
      "source": [
        "my_dict = {\"car\": 4, \"bike\": 2, \"bus\": 6, \"train\": 100, \"truck\": 8, \"cycle\": 1}\n",
        "my_dict = dict(sorted(my_dict.items(), key=lambda x: x[1]))\n",
        "my_dict_descending = dict(sorted(my_dict.items(), key=lambda x: x[1],reverse=True))\n",
        "\n",
        "print(my_dict)\n",
        "print(my_dict_descending)"
      ],
      "metadata": {
        "colab": {
          "base_uri": "https://localhost:8080/"
        },
        "id": "M3bSC-hdD5LF",
        "outputId": "0469f408-bd87-4520-ebbe-d4bbb6ad0a40"
      },
      "execution_count": 62,
      "outputs": [
        {
          "output_type": "stream",
          "name": "stdout",
          "text": [
            "{'cycle': 1, 'bike': 2, 'car': 4, 'bus': 6, 'truck': 8, 'train': 100}\n",
            "{'train': 100, 'truck': 8, 'bus': 6, 'car': 4, 'bike': 2, 'cycle': 1}\n"
          ]
        }
      ]
    },
    {
      "cell_type": "markdown",
      "metadata": {
        "id": "OzzMP4DdxW6G"
      },
      "source": [
        "#TASK 2.12\n",
        "##Write a Python script to check whether a given key already exists in a dictionary"
      ]
    },
    {
      "cell_type": "code",
      "execution_count": 63,
      "metadata": {
        "colab": {
          "base_uri": "https://localhost:8080/"
        },
        "id": "SWmChmdAxXH6",
        "outputId": "3f6595e9-9bc6-495a-8b8c-96bfcf11160a"
      },
      "outputs": [
        {
          "output_type": "stream",
          "name": "stdout",
          "text": [
            "enter the key:car\n",
            "the enetered key car is in the list\n"
          ]
        }
      ],
      "source": [
        "my_dict={\"car\":4,\"bike\":2,\"bus\":6,\"train\":100,\"truck\":8,\"cycle\":1}\n",
        "key_value=input(\"enter the key:\")\n",
        "if key_value in my_dict.keys():\n",
        "    print(f\"the enetered key {key_value} is in the list\")\n",
        "else:\n",
        "    print(f\"the enetered key {key_value} is not in the list\")"
      ]
    },
    {
      "cell_type": "markdown",
      "source": [
        "#TASK 2.13\n",
        "##Write a Python program to sum all the values in a dictionary"
      ],
      "metadata": {
        "id": "FRKOYW56-bqD"
      }
    },
    {
      "cell_type": "code",
      "source": [
        "my_dict={\"car\":4,\"bike\":2,\"bus\":6,\"train\":100,\"truck\":8,\"cycle\":1}\n",
        "sum_of_values=0\n",
        "for i in my_dict.values():\n",
        "    sum_of_values+=i\n",
        "print(sum_of_values)"
      ],
      "metadata": {
        "colab": {
          "base_uri": "https://localhost:8080/"
        },
        "id": "lS6qC59x-b44",
        "outputId": "f595138a-301a-433c-d959-ecb9d0ba2ca9"
      },
      "execution_count": 64,
      "outputs": [
        {
          "output_type": "stream",
          "name": "stdout",
          "text": [
            "121\n"
          ]
        }
      ]
    },
    {
      "cell_type": "markdown",
      "metadata": {
        "id": "oeYIQ8aEyk48"
      },
      "source": [
        "#TASK 2.14\n",
        "##Write a Python program to create a dictionary with a number and its corresponding square from 1 to input number. And also check if the input number is less than 10"
      ]
    },
    {
      "cell_type": "code",
      "execution_count": 65,
      "metadata": {
        "colab": {
          "base_uri": "https://localhost:8080/"
        },
        "id": "1bnjmFevylIq",
        "outputId": "29b4596a-a9ba-4a78-b44c-cb26714c2d8a"
      },
      "outputs": [
        {
          "output_type": "stream",
          "name": "stdout",
          "text": [
            "enter the number:6\n",
            "{0: 0, 1: 1, 2: 4, 3: 9, 4: 16, 5: 25, 6: 36}\n"
          ]
        }
      ],
      "source": [
        "number=int(input(\"enter the number:\"))\n",
        "if number<=10:\n",
        "    number={i:i*i for i in range(number+1) }\n",
        "    print(number)\n",
        "else:\n",
        "    print(\" the entered number is greater than 10\")"
      ]
    },
    {
      "cell_type": "markdown",
      "source": [
        "#TASK 2.15\n",
        "#Write a Python program to sort a given dictionary by key"
      ],
      "metadata": {
        "id": "-Jlx7fF7AKdh"
      }
    },
    {
      "cell_type": "code",
      "source": [
        "my_dict={\"car\":4,\"bike\":2,\"bus\":6,\"train\":100,\"truck\":8,\"cycle\":1}\n",
        "\n",
        "\n",
        "my_dict=dict(sorted(my_dict.items()))\n",
        "\n",
        "print(\"Sorted by keys:\",my_dict)"
      ],
      "metadata": {
        "colab": {
          "base_uri": "https://localhost:8080/"
        },
        "id": "PZqoR3UlAKtX",
        "outputId": "ffb2f54e-3541-4351-f4dd-c865e17ea665"
      },
      "execution_count": 66,
      "outputs": [
        {
          "output_type": "stream",
          "name": "stdout",
          "text": [
            "Sorted by keys: {'bike': 2, 'bus': 6, 'car': 4, 'cycle': 1, 'train': 100, 'truck': 8}\n"
          ]
        }
      ]
    },
    {
      "cell_type": "markdown",
      "metadata": {
        "id": "gTvAUZeSzsZG"
      },
      "source": [
        "#TASK 2.16\n",
        "#Write a Python program to create a dictionary from a string"
      ]
    },
    {
      "cell_type": "code",
      "execution_count": 67,
      "metadata": {
        "colab": {
          "base_uri": "https://localhost:8080/"
        },
        "id": "9S-c6YeFzsm_",
        "outputId": "7d884a64-90df-482d-b3b5-1acc1173e592"
      },
      "outputs": [
        {
          "output_type": "stream",
          "name": "stdout",
          "text": [
            "enter the word: helloworld\n",
            "{'h': 1, 'e': 1, 'l': 3, 'o': 2, 'w': 1, 'r': 1, 'd': 1}\n"
          ]
        }
      ],
      "source": [
        "word=input(\"enter the word: \")\n",
        "dict1={}\n",
        "for i in word:\n",
        "    if i in dict1:\n",
        "        dict1[i]+=1\n",
        "    else:\n",
        "        dict1[i]=1\n",
        "print(dict1)"
      ]
    },
    {
      "cell_type": "markdown",
      "source": [
        "#TASK 2,17\n",
        "##Write a Python program to get the top three items in a shop.\n",
        "\n"
      ],
      "metadata": {
        "id": "7c9GbvbmEhov"
      }
    },
    {
      "cell_type": "code",
      "source": [
        "shop={\"apple\":100,\"orange\":80,\"strawberry\":\n",
        "      300,\"mango\":150,\"watermelon\":50,\"grapes\":180}\n",
        "\n",
        "sorted_items=sorted(shop.items(), key=lambda x: x[1],reverse=True)\n",
        "\n",
        "top_3_items=sorted_items[:3]\n",
        "\n",
        "print(dict(top_3_items))"
      ],
      "metadata": {
        "colab": {
          "base_uri": "https://localhost:8080/"
        },
        "id": "8DJ-h54lEh5_",
        "outputId": "8aab4694-11ce-46dc-d4bd-78069ebebad7"
      },
      "execution_count": 68,
      "outputs": [
        {
          "output_type": "stream",
          "name": "stdout",
          "text": [
            "{'strawberry': 300, 'grapes': 180, 'mango': 150}\n"
          ]
        }
      ]
    }
  ],
  "metadata": {
    "colab": {
      "provenance": [],
      "authorship_tag": "ABX9TyPaEd3xdqcug5pgqKWy971y",
      "include_colab_link": true
    },
    "kernelspec": {
      "display_name": "Python 3",
      "name": "python3"
    },
    "language_info": {
      "name": "python"
    }
  },
  "nbformat": 4,
  "nbformat_minor": 0
}