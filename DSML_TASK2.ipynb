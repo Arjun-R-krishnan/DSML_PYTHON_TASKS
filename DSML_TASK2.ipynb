{
  "cells": [
    {
      "cell_type": "markdown",
      "metadata": {
        "id": "view-in-github",
        "colab_type": "text"
      },
      "source": [
        "<a href=\"https://colab.research.google.com/github/Arjun-R-krishnan/DSML_PYTHON_TASKS/blob/main/DSML_TASK2.ipynb\" target=\"_parent\"><img src=\"https://colab.research.google.com/assets/colab-badge.svg\" alt=\"Open In Colab\"/></a>"
      ]
    },
    {
      "cell_type": "markdown",
      "metadata": {
        "id": "j5IC_l7VUNoU"
      },
      "source": [
        "#TASK 2.1\n",
        "##Write a Python program to sum all the items in a list"
      ]
    },
    {
      "cell_type": "code",
      "execution_count": null,
      "metadata": {
        "colab": {
          "base_uri": "https://localhost:8080/"
        },
        "id": "a75LSuElUVGz",
        "outputId": "3b26baa2-6ffa-487f-c392-4fff110e4fea"
      },
      "outputs": [
        {
          "output_type": "stream",
          "name": "stdout",
          "text": [
            "the sum of the list is 46\n"
          ]
        }
      ],
      "source": [
        "list1=[1,2,5,8,10,20]\n",
        "sum=0\n",
        "for i in list1:\n",
        "    sum+=int(i)\n",
        "print(f\"the sum of the list is {sum}\")"
      ]
    },
    {
      "cell_type": "markdown",
      "metadata": {
        "id": "L7LUxgoYVQw-"
      },
      "source": [
        "#TASK 2.2\n",
        "##Write a Python program to get the largest number from a lis"
      ]
    },
    {
      "cell_type": "code",
      "execution_count": null,
      "metadata": {
        "colab": {
          "base_uri": "https://localhost:8080/"
        },
        "id": "T8YiNNY6Vdwm",
        "outputId": "bc94fc94-8076-46aa-d830-25e2ef6faa80"
      },
      "outputs": [
        {
          "output_type": "stream",
          "name": "stdout",
          "text": [
            "The largest number in the list is: 8\n"
          ]
        }
      ],
      "source": [
        "list2=[1,4,6,8,3,7]\n",
        "largest_number=0\n",
        "for num in list2:\n",
        "    if num > largest_number:\n",
        "        largest_number = num\n",
        "print(\"The largest number in the list is:\", largest_number)"
      ]
    },
    {
      "cell_type": "markdown",
      "metadata": {
        "id": "CJ9wKhD0WALR"
      },
      "source": [
        "#TASK 2.3\n",
        "##Write a Python program to count the number of strings from a given list of strings. The string length is 2 or more and the first and last characters are the same."
      ]
    },
    {
      "cell_type": "code",
      "execution_count": null,
      "metadata": {
        "colab": {
          "base_uri": "https://localhost:8080/"
        },
        "id": "RNfXQFllWN_4",
        "outputId": "40d8d42a-4550-453a-e93b-823556113e95"
      },
      "outputs": [
        {
          "output_type": "stream",
          "name": "stdout",
          "text": [
            "the number of strings with more than 3 words and the same first and last words are: 4\n"
          ]
        }
      ],
      "source": [
        "list_of_str=[\"aba\",\"898\",\"cool\",\"mango\",\"ono\",\"2348\",\"ekke\"]\n",
        "b=0\n",
        "for i in list_of_str:\n",
        "    if(len(i)>=2) and (i[0]==i[-1]):\n",
        "        b+=1\n",
        "print(f\"the number of strings with more than 3 words and the same first and last words are: {b}\")"
      ]
    },
    {
      "cell_type": "markdown",
      "metadata": {
        "id": "qbEqa_CxW_Jy"
      },
      "source": [
        "#TASK 2.4\n",
        "##Write a Python program to remove duplicates from a list"
      ]
    },
    {
      "cell_type": "code",
      "execution_count": null,
      "metadata": {
        "colab": {
          "base_uri": "https://localhost:8080/"
        },
        "id": "CrXitvSGXK93",
        "outputId": "51562c6b-6293-4d49-ec24-edfcfd88faa5"
      },
      "outputs": [
        {
          "output_type": "stream",
          "name": "stdout",
          "text": [
            "[1, 2, 100, 5, 8, 9, 76, 23]\n"
          ]
        }
      ],
      "source": [
        "my_list1=[1,100,8,9,5,8,2,5,2,8,23,76,5]\n",
        "my_list2=[]\n",
        "for i in set(my_list1):\n",
        "  my_list2.append(i)\n",
        "print(my_list2)"
      ]
    },
    {
      "cell_type": "markdown",
      "metadata": {
        "id": "J2X0BAZcer3W"
      },
      "source": []
    },
    {
      "cell_type": "markdown",
      "metadata": {
        "id": "FqEhprqjacux"
      },
      "source": [
        "#TASK 2.5\n",
        "##Write a Python program to check if a list is empty or not"
      ]
    },
    {
      "cell_type": "code",
      "execution_count": null,
      "metadata": {
        "colab": {
          "base_uri": "https://localhost:8080/"
        },
        "id": "x0zhO6sHanug",
        "outputId": "e371df03-fe71-4e43-dc8b-33840902bbd3"
      },
      "outputs": [
        {
          "output_type": "stream",
          "name": "stdout",
          "text": [
            " the list is empty\n"
          ]
        }
      ],
      "source": [
        "list5=[]\n",
        "if len(list5)==0:\n",
        "    print(\" the list is empty\")\n",
        "else:\n",
        "    print(\"the list is not empty\")"
      ]
    },
    {
      "cell_type": "markdown",
      "metadata": {
        "id": "RyMqiOqxbAAa"
      },
      "source": [
        "#TASK 2.6\n",
        "##Write a Python program to filter the list if the length of the character is < 4\n",
        "\n"
      ]
    },
    {
      "cell_type": "code",
      "execution_count": null,
      "metadata": {
        "colab": {
          "base_uri": "https://localhost:8080/"
        },
        "id": "ibRUBMW2bnF7",
        "outputId": "4e15facf-ac15-4178-e324-a39b30394d94"
      },
      "outputs": [
        {
          "output_type": "stream",
          "name": "stdout",
          "text": [
            "['car', 'hai', 'bus']\n"
          ]
        }
      ],
      "source": [
        "list_of_strgs=[\"car\",\"bike\",\"hai\",\"1234\",\"bus\",\"house\"]\n",
        "for i in list_of_strgs:\n",
        "    if(len(i)>3):\n",
        "        list_of_strgs.remove(i)\n",
        "print(list_of_strgs)"
      ]
    },
    {
      "cell_type": "markdown",
      "metadata": {
        "id": "9rZEmr5Ueu9d"
      },
      "source": [
        "#TASK 2.7\n",
        "#Write a Python program to find the second largest number in a list"
      ]
    },
    {
      "cell_type": "code",
      "execution_count": null,
      "metadata": {
        "colab": {
          "base_uri": "https://localhost:8080/"
        },
        "id": "fH43B4K6evS3",
        "outputId": "39c47c95-6cea-435e-ce29-f8efd7b534df"
      },
      "outputs": [
        {
          "output_type": "stream",
          "name": "stdout",
          "text": [
            "the second largest number is 8\n"
          ]
        }
      ],
      "source": [
        "list6=[1,7,4,9,3,6,8]\n",
        "list6.sort(reverse=True)\n",
        "print(f\"the second largest number is {list6[1]}\")"
      ]
    },
    {
      "cell_type": "markdown",
      "metadata": {
        "id": "S5_n3XK-fbuj"
      },
      "source": [
        "#TASK 2.8\n",
        "#Write a Python program to reverse a list at a specific location"
      ]
    },
    {
      "cell_type": "code",
      "execution_count": null,
      "metadata": {
        "colab": {
          "base_uri": "https://localhost:8080/"
        },
        "id": "bP0e1gUTfcFF",
        "outputId": "2ddbd77d-33d5-4f33-c4b3-2e613fe0e472"
      },
      "outputs": [
        {
          "output_type": "stream",
          "name": "stdout",
          "text": [
            "[1, 2, 7, 6, 5, 4, 3, 8, 9, 10]\n"
          ]
        }
      ],
      "source": [
        "my_list3 = [1, 2, 3, 4, 5,6,7,8,9,10]\n",
        "start = 2\n",
        "end = 6\n",
        "for i in range((end - start) // 2):\n",
        "  my_list3[start + i], my_list3[end - i ] = my_list3[end - i ], my_list3[start + i]\n",
        "\n",
        "print(my_list3)"
      ]
    },
    {
      "cell_type": "markdown",
      "metadata": {
        "id": "Byl70F1lfyL-"
      },
      "source": [
        "#TASK 2.9\n",
        "##Write a Python program to check if a list is a palindrome or not. Return true otherwise false"
      ]
    },
    {
      "cell_type": "code",
      "execution_count": null,
      "metadata": {
        "colab": {
          "base_uri": "https://localhost:8080/"
        },
        "id": "FaPLcIjXfyr-",
        "outputId": "cf175fa9-88e3-4954-edac-3ec07d095122"
      },
      "outputs": [
        {
          "output_type": "stream",
          "name": "stdout",
          "text": [
            "False\n"
          ]
        }
      ],
      "source": [
        "my_list4 = [1,2,3,2,1]\n",
        "palindrome = False\n",
        "if my_list4[::-1]==my_list4:\n",
        "    palindrome=True\n",
        "print(palindrome)"
      ]
    },
    {
      "cell_type": "markdown",
      "source": [
        "#TASK 2.10\n",
        "##Write a Python a program to find the union and intersection of two lists"
      ],
      "metadata": {
        "id": "mV0Su2MPu_md"
      }
    },
    {
      "cell_type": "code",
      "source": [
        "a=[1,3,5,7,9,20]\n",
        "b=[2,4,6,8,10,20]\n",
        "intersection_of_list=[]\n",
        "union_of_lists=a+b\n",
        "intersection_ab=(set(a)&set(b))\n",
        "for i in intersection_ab:\n",
        "  intersection_of_list.append(i)\n",
        "\n",
        "print(f\"union of the lists:{union_of_lists}\")\n",
        "print(f\"intersection of the lists:{intersection_of_list}\")"
      ],
      "metadata": {
        "id": "LN-qh-rnu_4C",
        "colab": {
          "base_uri": "https://localhost:8080/"
        },
        "outputId": "c7082c43-82e5-4e58-bd52-f86785761faa"
      },
      "execution_count": 32,
      "outputs": [
        {
          "output_type": "stream",
          "name": "stdout",
          "text": [
            "union of the lists:[1, 3, 5, 7, 9, 20, 2, 4, 6, 8, 10, 20]\n",
            "intersection of the lists:[20]\n"
          ]
        }
      ]
    },
    {
      "cell_type": "markdown",
      "source": [
        "#TASK 2.12\n",
        "##Write a Python script to check whether a given key already exists in a dictionary"
      ],
      "metadata": {
        "id": "OzzMP4DdxW6G"
      }
    },
    {
      "cell_type": "code",
      "source": [
        "my_list5={\"car\":4,\"bike\":2,\"bus\":6,\"train\":100,\"truck\":8,\"cycle\":1}\n",
        "key_value=input(\"enter the key:\")\n",
        "if key_value in my_list5.keys():\n",
        "    print(\"the enetered key is in the list\")\n",
        "else:\n",
        "    print(\"the enetered key is not in the list\")"
      ],
      "metadata": {
        "colab": {
          "base_uri": "https://localhost:8080/"
        },
        "id": "SWmChmdAxXH6",
        "outputId": "64fb87dc-f7a2-4001-a7f3-5c30e59ca363"
      },
      "execution_count": 33,
      "outputs": [
        {
          "output_type": "stream",
          "name": "stdout",
          "text": [
            "enter the key:car\n",
            "the enetered key is in the list\n"
          ]
        }
      ]
    },
    {
      "cell_type": "markdown",
      "source": [
        "#TASK 2.14\n",
        "##Write a Python program to create a dictionary with a number and its corresponding square from 1 to input number. And also check if the input number is less than 10"
      ],
      "metadata": {
        "id": "oeYIQ8aEyk48"
      }
    },
    {
      "cell_type": "code",
      "source": [
        "number=int(input(\"enter the number:\"))\n",
        "if number<=10:\n",
        "    number={i:i*i for i in range(number+1) }\n",
        "    print(number)\n",
        "else:\n",
        "    print(\" the entered number is greater than 10\")\n"
      ],
      "metadata": {
        "colab": {
          "base_uri": "https://localhost:8080/"
        },
        "id": "1bnjmFevylIq",
        "outputId": "a1415ab0-33b8-4a62-977d-8d9a0b32ae2e"
      },
      "execution_count": 36,
      "outputs": [
        {
          "output_type": "stream",
          "name": "stdout",
          "text": [
            "enter the number:6\n",
            "{0: 0, 1: 1, 2: 4, 3: 9, 4: 16, 5: 25, 6: 36}\n"
          ]
        }
      ]
    },
    {
      "cell_type": "markdown",
      "source": [
        "#TASK 2.16\n",
        "#Write a Python program to create a dictionary from a string"
      ],
      "metadata": {
        "id": "gTvAUZeSzsZG"
      }
    },
    {
      "cell_type": "code",
      "source": [
        "word=input(\"enter the word: \")\n",
        "dict1={}\n",
        "for i in word:\n",
        "    if i in dict1:\n",
        "        dict1[i]+=1\n",
        "    else:\n",
        "        dict1[i]=1\n",
        "print(dict1)"
      ],
      "metadata": {
        "colab": {
          "base_uri": "https://localhost:8080/"
        },
        "id": "9S-c6YeFzsm_",
        "outputId": "8a213999-439f-4163-bd48-048eccaaeb71"
      },
      "execution_count": 1,
      "outputs": [
        {
          "output_type": "stream",
          "name": "stdout",
          "text": [
            "enter the word: school\n",
            "{'s': 1, 'c': 1, 'h': 1, 'o': 2, 'l': 1}\n"
          ]
        }
      ]
    }
  ],
  "metadata": {
    "colab": {
      "provenance": [],
      "authorship_tag": "ABX9TyNZwNfEySxuzYxLxMG38hhL",
      "include_colab_link": true
    },
    "kernelspec": {
      "display_name": "Python 3",
      "name": "python3"
    },
    "language_info": {
      "name": "python"
    }
  },
  "nbformat": 4,
  "nbformat_minor": 0
}