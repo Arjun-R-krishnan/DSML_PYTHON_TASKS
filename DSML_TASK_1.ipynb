{
  "nbformat": 4,
  "nbformat_minor": 0,
  "metadata": {
    "colab": {
      "provenance": [],
      "authorship_tag": "ABX9TyPH+ULzZQqUXAdt1yJsR/eo",
      "include_colab_link": true
    },
    "kernelspec": {
      "name": "python3",
      "display_name": "Python 3"
    },
    "language_info": {
      "name": "python"
    }
  },
  "cells": [
    {
      "cell_type": "markdown",
      "metadata": {
        "id": "view-in-github",
        "colab_type": "text"
      },
      "source": [
        "<a href=\"https://colab.research.google.com/github/Arjun-R-krishnan/dsml_task/blob/main/DSML_TASK_1.ipynb\" target=\"_parent\"><img src=\"https://colab.research.google.com/assets/colab-badge.svg\" alt=\"Open In Colab\"/></a>"
      ]
    },
    {
      "cell_type": "markdown",
      "source": [
        "#TASK 1:\n",
        "##Write a python program to find those numbers which are divisible by 7 and multiples of 5, for user input"
      ],
      "metadata": {
        "id": "iZ919RTPJ34O"
      }
    },
    {
      "cell_type": "code",
      "execution_count": 30,
      "metadata": {
        "colab": {
          "base_uri": "https://localhost:8080/"
        },
        "id": "058F_nuvxFZQ",
        "outputId": "e9b0f5f0-831c-4c07-91a2-19e751531f2c"
      },
      "outputs": [
        {
          "output_type": "stream",
          "name": "stdout",
          "text": [
            "Enter the range of numbers separated by commas: 67,90\n",
            "70\n"
          ]
        }
      ],
      "source": [
        "numbers = input(\"Enter the range of numbers separated by commas: \")\n",
        "list_of_n= numbers.split(\",\")\n",
        "start_num = int(list_of_n[0])\n",
        "end_num = int(list_of_n[1])\n",
        "\n",
        "list_of_nums = []\n",
        "\n",
        "for i in range(start_num, end_num + 1):\n",
        "    if i % 7 == 0 and i % 5 == 0:\n",
        "        list_of_nums.append(str(i))\n",
        "\n",
        "result_str = \",\".join(list_of_nums)\n",
        "\n",
        "if list_of_nums:\n",
        "    print(result_str)\n",
        "else:\n",
        "    print(\"In the given range none of the numbers are divisible by 7 and multiple of 5\")\n"
      ]
    },
    {
      "cell_type": "markdown",
      "source": [],
      "metadata": {
        "id": "n79cUIySQpRy"
      }
    },
    {
      "cell_type": "markdown",
      "source": [
        "#TASK 2\n",
        "#Write a python program to check the user input is even or odd or zero."
      ],
      "metadata": {
        "id": "3wvxP0KgLIH7"
      }
    },
    {
      "cell_type": "code",
      "source": [
        "number=int(input(\"ENTER THE NUMBER:\"))\n",
        "\n",
        "if number==0:\n",
        "\n",
        "    print(\"THE GIVEN NUMBER IS ZERO\")\n",
        "\n",
        "elif number%2==0:\n",
        "\n",
        "    print(f\"{number} IS AN EVEN NUMBER\")\n",
        "\n",
        "else:\n",
        "\n",
        "    print(F\"{number} IS AN ODD NUMBER\")"
      ],
      "metadata": {
        "colab": {
          "base_uri": "https://localhost:8080/"
        },
        "id": "sAEZfLTvLPTg",
        "outputId": "1dcb2722-099a-4b16-9bd1-c27581d94654"
      },
      "execution_count": null,
      "outputs": [
        {
          "output_type": "stream",
          "name": "stdout",
          "text": [
            "ENTER THE NUMBER:59\n",
            "59 IS AN ODD NUMBER\n"
          ]
        }
      ]
    },
    {
      "cell_type": "markdown",
      "source": [],
      "metadata": {
        "id": "n5BC9v-YKuC6"
      }
    },
    {
      "cell_type": "markdown",
      "source": [
        "#TASK 3\n",
        "#Print decimal part of an input number. If the decimal part is zero print the string : “INTEGER”"
      ],
      "metadata": {
        "id": "OVGmk6MsK9d5"
      }
    },
    {
      "cell_type": "code",
      "source": [
        "num=(input(\"ENTER THE DECIMAL NUMBER:\"))\n",
        "\n",
        "part=num.split(\".\")\n",
        "\n",
        "if(int(part[1])==0):\n",
        "\n",
        "    print(\"INTEGER\")\n",
        "\n",
        "else:\n",
        "\n",
        "    print(f\" THE DECIMAL PART IS {part[1]}\")"
      ],
      "metadata": {
        "colab": {
          "base_uri": "https://localhost:8080/"
        },
        "id": "-YO4eFIjKur6",
        "outputId": "5f921ada-e3c7-4ce6-da8c-d663f98514c6"
      },
      "execution_count": null,
      "outputs": [
        {
          "output_type": "stream",
          "name": "stdout",
          "text": [
            "ENTER THE DECIMAL NUMBER:56.99\n",
            " THE DECIMAL PART IS 99\n"
          ]
        }
      ]
    }
  ]
}