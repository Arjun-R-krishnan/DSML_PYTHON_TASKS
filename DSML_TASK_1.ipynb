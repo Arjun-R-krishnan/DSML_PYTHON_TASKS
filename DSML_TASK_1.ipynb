{
  "nbformat": 4,
  "nbformat_minor": 0,
  "metadata": {
    "colab": {
      "provenance": [],
      "authorship_tag": "ABX9TyMvIcNViPzoVrV5jdaIkXgB",
      "include_colab_link": true
    },
    "kernelspec": {
      "name": "python3",
      "display_name": "Python 3"
    },
    "language_info": {
      "name": "python"
    }
  },
  "cells": [
    {
      "cell_type": "markdown",
      "metadata": {
        "id": "view-in-github",
        "colab_type": "text"
      },
      "source": [
        "<a href=\"https://colab.research.google.com/github/Arjun-R-krishnan/dsml_task/blob/main/DSML_TASK_1.ipynb\" target=\"_parent\"><img src=\"https://colab.research.google.com/assets/colab-badge.svg\" alt=\"Open In Colab\"/></a>"
      ]
    },
    {
      "cell_type": "markdown",
      "source": [
        "#TASK 1:\n",
        "##Write a python program to find those numbers which are divisible by 7 and multiples of 5, for user input"
      ],
      "metadata": {
        "id": "iZ919RTPJ34O"
      }
    },
    {
      "cell_type": "code",
      "execution_count": null,
      "metadata": {
        "colab": {
          "base_uri": "https://localhost:8080/"
        },
        "id": "058F_nuvxFZQ",
        "outputId": "95e0d520-6c51-4540-e61f-a78a2cedcbb0"
      },
      "outputs": [
        {
          "output_type": "stream",
          "name": "stdout",
          "text": [
            "Enter the range of numbers separated by commas: 34,300\n",
            "35,70,105,140,175,210,245,280\n"
          ]
        }
      ],
      "source": [
        "numbers = input(\"Enter the range of numbers separated by commas: \")             #Prompt the user to enter a range of numbers separated by commas\n",
        "list_of_n= numbers.split(\",\")                                                   #Split the input string into a list of strings using commas as separators\n",
        "start_num = int(list_of_n[0])                                                   #Convert the first and second elements of the list (start and end numbers) to integers\n",
        "end_num = int(list_of_n[1])\n",
        "\n",
        "list_of_nums = []                                                               #Initialize an empty list to store numbers that are divisible by 7 and multiples of 5\n",
        "\n",
        "for i in range(start_num, end_num + 1):                                         #Iterate through the range from start_num to end_num (inclusive)\n",
        "    if i % 7 == 0 and i % 5 == 0:                                               #Check if the current number is divisible by 7 and a multiple of 5\n",
        "        list_of_nums.append(str(i))                                             #If yes, convert the number to a string and append it to list_of_nums\n",
        "\n",
        "result_str = \",\".join(list_of_nums)                                             #Join the elements of list_of_nums into a single string separated by commas\n",
        "\n",
        "if list_of_nums:                                                                #Check if there are any numbers in list_of_nums\n",
        "    print(result_str)                                                           #If there are, print the resulting string of numbers\n",
        "\n",
        "else:                                                                           #If there are no such numbers, print a message indicating that none were found\n",
        "    print(\"In the given range none of the numbers are divisible by 7 and multiple of 5\")\n"
      ]
    },
    {
      "cell_type": "markdown",
      "source": [],
      "metadata": {
        "id": "n79cUIySQpRy"
      }
    },
    {
      "cell_type": "markdown",
      "source": [
        "#TASK 2\n",
        "#Write a python program to check the user input is even or odd or zero."
      ],
      "metadata": {
        "id": "3wvxP0KgLIH7"
      }
    },
    {
      "cell_type": "code",
      "source": [
        "number=int(input(\"ENTER THE NUMBER:\"))                                          #Prompt the user to enter a number and store it in the 'number' variable\n",
        "\n",
        "if number==0:                                                                   #Check if the entered number is equal to 0\n",
        "\n",
        "    print(\"THE GIVEN NUMBER IS ZERO\")                                           #If it is 0, print a message indicating that the number is zero\n",
        "\n",
        "elif number%2==0:                                                               #If the number is not zero, check if it is divisible by 2 (even number)\n",
        "\n",
        "    print(f\"{number} IS AN EVEN NUMBER\")                                        #If it is divisible by 2, print a message indicating that it is an even number\n",
        "\n",
        "else:                                                                           #If the number is neither 0 nor divisible by 2 (odd number)\n",
        "\n",
        "    print(F\"{number} IS AN ODD NUMBER\")                                         #Print a message indicating that it is an odd number"
      ],
      "metadata": {
        "colab": {
          "base_uri": "https://localhost:8080/"
        },
        "id": "sAEZfLTvLPTg",
        "outputId": "6849ac9a-33f3-43a6-a193-bb2a4cbb2e8d"
      },
      "execution_count": 3,
      "outputs": [
        {
          "output_type": "stream",
          "name": "stdout",
          "text": [
            "ENTER THE NUMBER:1111111\n",
            "1111111 IS AN ODD NUMBER\n"
          ]
        }
      ]
    },
    {
      "cell_type": "markdown",
      "source": [],
      "metadata": {
        "id": "n5BC9v-YKuC6"
      }
    },
    {
      "cell_type": "markdown",
      "source": [
        "#TASK 3\n",
        "#Print decimal part of an input number. If the decimal part is zero print the string : “INTEGER”"
      ],
      "metadata": {
        "id": "OVGmk6MsK9d5"
      }
    },
    {
      "cell_type": "code",
      "source": [
        "num=(input(\"ENTER THE DECIMAL NUMBER:\"))                                        #Ask the user to enter a decimal number\n",
        "\n",
        "part=num.split(\".\")                                                             #Split the input at the decimal point\n",
        "\n",
        "if(int(part[1])==0):                                                            #Check if the decimal part is zero\n",
        "\n",
        "    print(\"INTEGER\")                                                            #print a message indicating the given number is an integer\n",
        "\n",
        "else:                                                                           #if the decimal part is not zero\n",
        "\n",
        "    print(f\" THE DECIMAL PART IS {part[1]}\")                                    #print the value of decimal part\n"
      ],
      "metadata": {
        "colab": {
          "base_uri": "https://localhost:8080/"
        },
        "id": "-YO4eFIjKur6",
        "outputId": "1d52e79b-1425-4c33-ff9c-013fdc98d417"
      },
      "execution_count": 5,
      "outputs": [
        {
          "output_type": "stream",
          "name": "stdout",
          "text": [
            "ENTER THE DECIMAL NUMBER:78.00\n",
            "INTEGER\n"
          ]
        }
      ]
    }
  ]
}